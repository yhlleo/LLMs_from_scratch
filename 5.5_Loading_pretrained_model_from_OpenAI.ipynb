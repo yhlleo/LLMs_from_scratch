{
 "cells": [
  {
   "cell_type": "code",
   "execution_count": 1,
   "id": "f299eb3e-c51c-49b8-a44d-9207adea6208",
   "metadata": {},
   "outputs": [],
   "source": [
    "import urllib.request\n",
    "url = \"https://raw.githubusercontent.com/rasbt/LLMs-from-scratch/main/ch05/01_main-chapter-code/gpt_download.py\""
   ]
  },
  {
   "cell_type": "code",
   "execution_count": 2,
   "id": "c356e121-7426-4f33-9907-2d059dabe120",
   "metadata": {},
   "outputs": [
    {
     "data": {
      "text/plain": [
       "('gpt_download.py', <http.client.HTTPMessage at 0x107be55d0>)"
      ]
     },
     "execution_count": 2,
     "metadata": {},
     "output_type": "execute_result"
    }
   ],
   "source": [
    "filename = url.split(\"/\")[-1]\n",
    "urllib.request.urlretrieve(url, filename)"
   ]
  },
  {
   "cell_type": "code",
   "execution_count": 11,
   "id": "d89e38bf-e35a-4666-b718-903b590bf05a",
   "metadata": {},
   "outputs": [
    {
     "name": "stdout",
     "output_type": "stream",
     "text": [
      "File already exists and is up-to-date: ch05/gpt2/124M/checkpoint\n",
      "File already exists and is up-to-date: ch05/gpt2/124M/encoder.json\n",
      "File already exists and is up-to-date: ch05/gpt2/124M/hparams.json\n",
      "File already exists and is up-to-date: ch05/gpt2/124M/model.ckpt.data-00000-of-00001\n",
      "File already exists and is up-to-date: ch05/gpt2/124M/model.ckpt.index\n",
      "File already exists and is up-to-date: ch05/gpt2/124M/model.ckpt.meta\n",
      "File already exists and is up-to-date: ch05/gpt2/124M/vocab.bpe\n"
     ]
    }
   ],
   "source": [
    "from ch05.gpt_download import download_and_load_gpt2\n",
    "settings, params = download_and_load_gpt2(model_size=\"124M\", models_dir=\"ch05/gpt2\")"
   ]
  },
  {
   "cell_type": "code",
   "execution_count": null,
   "id": "f33e2b02-4712-474d-ae05-c7fdca8ad965",
   "metadata": {},
   "outputs": [],
   "source": []
  }
 ],
 "metadata": {
  "kernelspec": {
   "display_name": "Python 3 (ipykernel)",
   "language": "python",
   "name": "python3"
  },
  "language_info": {
   "codemirror_mode": {
    "name": "ipython",
    "version": 3
   },
   "file_extension": ".py",
   "mimetype": "text/x-python",
   "name": "python",
   "nbconvert_exporter": "python",
   "pygments_lexer": "ipython3",
   "version": "3.11.4"
  }
 },
 "nbformat": 4,
 "nbformat_minor": 5
}
