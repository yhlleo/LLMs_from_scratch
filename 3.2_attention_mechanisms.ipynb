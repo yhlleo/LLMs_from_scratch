{
 "cells": [
  {
   "cell_type": "code",
   "execution_count": 1,
   "id": "af5bdd9e-71a3-4171-89f1-ad8a6d723ac3",
   "metadata": {},
   "outputs": [],
   "source": [
    "import torch\n",
    "import torch.nn as nn"
   ]
  },
  {
   "cell_type": "code",
   "execution_count": 2,
   "id": "c8f95b74-2df0-4e44-a96e-9bda03785695",
   "metadata": {},
   "outputs": [],
   "source": [
    "inputs = torch.tensor(\n",
    "    [[0.43, 0.15, 0.89], # Your\n",
    "     [0.55, 0.87, 0.66], # journey\n",
    "     [0.57, 0.85, 0.64], # starts\n",
    "     [0.22, 0.58, 0.33], # with\n",
    "     [0.77, 0.25, 0.10], # one\n",
    "     [0.05, 0.80, 0.55]  # step\n",
    "    ])"
   ]
  },
  {
   "cell_type": "code",
   "execution_count": 7,
   "id": "486dc404-9a68-44a8-bd82-c5cd7f47a620",
   "metadata": {},
   "outputs": [
    {
     "name": "stdout",
     "output_type": "stream",
     "text": [
      "tensor([0.9422, 1.4754, 1.4570, 0.8296, 0.7154, 1.0605])\n"
     ]
    }
   ],
   "source": [
    "query = inputs[2]\n",
    "attn_scores = torch.zeros(inputs.shape[0])\n",
    "\n",
    "for i, x in enumerate(inputs):\n",
    "    attn_scores[i] = torch.dot(x, query)\n",
    "print(attn_scores)"
   ]
  },
  {
   "cell_type": "code",
   "execution_count": 9,
   "id": "c5b873ea-40d7-40ae-870f-e2e4d1f5e9b0",
   "metadata": {},
   "outputs": [
    {
     "name": "stdout",
     "output_type": "stream",
     "text": [
      "tensor([0.1454, 0.2277, 0.2248, 0.1280, 0.1104, 0.1637])\n",
      "tensor(1.)\n"
     ]
    }
   ],
   "source": [
    "norm_attn_scores = attn_scores / attn_scores.sum()\n",
    "print(norm_attn_scores)\n",
    "print(norm_attn_scores.sum())"
   ]
  },
  {
   "cell_type": "code",
   "execution_count": 10,
   "id": "f61d8dc1-0ae0-4a0e-a559-f63554e2c398",
   "metadata": {},
   "outputs": [],
   "source": [
    "def softmax_naive(x):\n",
    "    exp_x = torch.exp(x)\n",
    "    return exp_x / exp_x.sum(dim=0)"
   ]
  },
  {
   "cell_type": "code",
   "execution_count": 11,
   "id": "6076b901-4891-4270-8e92-89ebd0427f21",
   "metadata": {},
   "outputs": [
    {
     "name": "stdout",
     "output_type": "stream",
     "text": [
      "tensor([0.1390, 0.2369, 0.2326, 0.1242, 0.1108, 0.1565])\n",
      "tensor(1.)\n"
     ]
    }
   ],
   "source": [
    "softmax_attn_score = softmax_naive(attn_scores)\n",
    "print(softmax_attn_score)\n",
    "print(softmax_attn_score.sum())"
   ]
  },
  {
   "cell_type": "code",
   "execution_count": 12,
   "id": "a94fbed8-9f5e-41fa-a586-0a0a8221217c",
   "metadata": {},
   "outputs": [
    {
     "name": "stdout",
     "output_type": "stream",
     "text": [
      "tensor([0.1390, 0.2369, 0.2326, 0.1242, 0.1108, 0.1565])\n",
      "tensor(1.0000)\n"
     ]
    }
   ],
   "source": [
    "softmax_attn_scores = torch.softmax(attn_scores, dim=0)\n",
    "print(softmax_attn_scores)\n",
    "print(softmax_attn_scores.sum())"
   ]
  },
  {
   "cell_type": "code",
   "execution_count": 13,
   "id": "5649fad3-6fb2-4713-92c5-052ef12b13a4",
   "metadata": {},
   "outputs": [
    {
     "name": "stdout",
     "output_type": "stream",
     "text": [
      "tensor([0.4431, 0.6496, 0.5671])\n"
     ]
    }
   ],
   "source": [
    "context_vec = torch.zeros(inputs[0].shape[0])\n",
    "for i, x in enumerate(inputs):\n",
    "    context_vec += softmax_attn_scores[i] * x\n",
    "print(context_vec)"
   ]
  },
  {
   "cell_type": "code",
   "execution_count": 14,
   "id": "33f01f00-f27e-420e-9c28-22e53a8c71fc",
   "metadata": {},
   "outputs": [
    {
     "name": "stdout",
     "output_type": "stream",
     "text": [
      "tensor([[0.9995, 0.9544, 0.9422, 0.4753, 0.4576, 0.6310],\n",
      "        [0.9544, 1.4950, 1.4754, 0.8434, 0.7070, 1.0865],\n",
      "        [0.9422, 1.4754, 1.4570, 0.8296, 0.7154, 1.0605],\n",
      "        [0.4753, 0.8434, 0.8296, 0.4937, 0.3474, 0.6565],\n",
      "        [0.4576, 0.7070, 0.7154, 0.3474, 0.6654, 0.2935],\n",
      "        [0.6310, 1.0865, 1.0605, 0.6565, 0.2935, 0.9450]])\n"
     ]
    }
   ],
   "source": [
    "attn_scores = torch.empty(6, 6)\n",
    "for i, x in enumerate(inputs):\n",
    "    for j, y in enumerate(inputs):\n",
    "        attn_scores[i,j] = torch.dot(x, y)\n",
    "print(attn_scores)"
   ]
  },
  {
   "cell_type": "code",
   "execution_count": 15,
   "id": "4680b5d0-c952-4e1b-8b78-102e3a78f51f",
   "metadata": {},
   "outputs": [
    {
     "name": "stdout",
     "output_type": "stream",
     "text": [
      "tensor([[0.9995, 0.9544, 0.9422, 0.4753, 0.4576, 0.6310],\n",
      "        [0.9544, 1.4950, 1.4754, 0.8434, 0.7070, 1.0865],\n",
      "        [0.9422, 1.4754, 1.4570, 0.8296, 0.7154, 1.0605],\n",
      "        [0.4753, 0.8434, 0.8296, 0.4937, 0.3474, 0.6565],\n",
      "        [0.4576, 0.7070, 0.7154, 0.3474, 0.6654, 0.2935],\n",
      "        [0.6310, 1.0865, 1.0605, 0.6565, 0.2935, 0.9450]])\n"
     ]
    }
   ],
   "source": [
    "attn_scores = inputs @ inputs.T\n",
    "print(attn_scores)"
   ]
  },
  {
   "cell_type": "code",
   "execution_count": 16,
   "id": "8f3e4dc8-8c29-4ec5-9b7c-a61dadf59fb0",
   "metadata": {},
   "outputs": [
    {
     "name": "stdout",
     "output_type": "stream",
     "text": [
      "tensor([[0.2098, 0.2006, 0.1981, 0.1242, 0.1220, 0.1452],\n",
      "        [0.1385, 0.2379, 0.2333, 0.1240, 0.1082, 0.1581],\n",
      "        [0.1390, 0.2369, 0.2326, 0.1242, 0.1108, 0.1565],\n",
      "        [0.1435, 0.2074, 0.2046, 0.1462, 0.1263, 0.1720],\n",
      "        [0.1526, 0.1958, 0.1975, 0.1367, 0.1879, 0.1295],\n",
      "        [0.1385, 0.2184, 0.2128, 0.1420, 0.0988, 0.1896]])\n"
     ]
    }
   ],
   "source": [
    "attn_scores = torch.softmax(attn_scores, dim=-1)\n",
    "print(attn_scores)"
   ]
  },
  {
   "cell_type": "code",
   "execution_count": 17,
   "id": "1af3e47e-cf94-4e27-a271-61a3775cb589",
   "metadata": {},
   "outputs": [
    {
     "name": "stdout",
     "output_type": "stream",
     "text": [
      "tensor([1.0000, 1.0000, 1.0000, 1.0000, 1.0000, 1.0000])\n"
     ]
    }
   ],
   "source": [
    "print(attn_scores.sum(dim=-1))"
   ]
  },
  {
   "cell_type": "code",
   "execution_count": 18,
   "id": "e11334f6-552b-45ad-9455-aea45f7bbd44",
   "metadata": {},
   "outputs": [
    {
     "name": "stdout",
     "output_type": "stream",
     "text": [
      "tensor([[0.4421, 0.5931, 0.5790],\n",
      "        [0.4419, 0.6515, 0.5683],\n",
      "        [0.4431, 0.6496, 0.5671],\n",
      "        [0.4304, 0.6298, 0.5510],\n",
      "        [0.4671, 0.5910, 0.5266],\n",
      "        [0.4177, 0.6503, 0.5645]])\n"
     ]
    }
   ],
   "source": [
    "context_vecs = attn_scores @ inputs\n",
    "print(context_vecs)"
   ]
  },
  {
   "cell_type": "code",
   "execution_count": 20,
   "id": "a5b86436-dfa3-4ba1-a097-fe7b98632c3c",
   "metadata": {},
   "outputs": [],
   "source": [
    "x_2 = inputs[1]\n",
    "\n",
    "dim_in, dim_out = inputs.shape[1], 2"
   ]
  },
  {
   "cell_type": "code",
   "execution_count": 22,
   "id": "0c651280-763b-4bdd-8859-34b52bc32dbf",
   "metadata": {},
   "outputs": [],
   "source": [
    "torch.manual_seed(123)\n",
    "W_query = nn.Parameter(torch.rand(dim_in, dim_out), requires_grad=False)\n",
    "W_key = nn.Parameter(torch.rand(dim_in, dim_out), requires_grad=False)\n",
    "W_value = nn.Parameter(torch.rand(dim_in, dim_out), requires_grad=False)"
   ]
  },
  {
   "cell_type": "code",
   "execution_count": 23,
   "id": "a83fb5a6-bcbd-48b5-97ae-2d8b01a5547d",
   "metadata": {},
   "outputs": [],
   "source": [
    "query_2 = x_2 @ W_query\n",
    "key_2   = x_2 @ W_key\n",
    "value_2 = x_2 @ W_value"
   ]
  },
  {
   "cell_type": "code",
   "execution_count": 24,
   "id": "ffb077b9-caa0-4d3c-b66d-0a062e32a35e",
   "metadata": {},
   "outputs": [
    {
     "name": "stdout",
     "output_type": "stream",
     "text": [
      "tensor([0.4306, 1.4551])\n"
     ]
    }
   ],
   "source": [
    "print(query_2)"
   ]
  },
  {
   "cell_type": "code",
   "execution_count": 26,
   "id": "c3f10d7b-bc74-4a3f-acec-d9aa9c720748",
   "metadata": {},
   "outputs": [
    {
     "name": "stdout",
     "output_type": "stream",
     "text": [
      "key.shape:  torch.Size([6, 2])\n",
      "values.shape:  torch.Size([6, 2])\n"
     ]
    }
   ],
   "source": [
    "keys   = inputs @ W_key\n",
    "values = inputs @ W_value\n",
    "\n",
    "print(\"key.shape: \", keys.shape)\n",
    "print(\"values.shape: \", values.shape)"
   ]
  },
  {
   "cell_type": "code",
   "execution_count": 27,
   "id": "e12a1c6d-e715-4bbc-9292-0008d8c15ca6",
   "metadata": {},
   "outputs": [
    {
     "name": "stdout",
     "output_type": "stream",
     "text": [
      "tensor(1.8524)\n"
     ]
    }
   ],
   "source": [
    "key_2 = keys[1]\n",
    "attn_score_22 = query_2.dot(key_2)\n",
    "print(attn_score_22)"
   ]
  },
  {
   "cell_type": "code",
   "execution_count": 28,
   "id": "f5719dff-a708-4dd7-9f6e-8b62e45c75e5",
   "metadata": {},
   "outputs": [
    {
     "name": "stdout",
     "output_type": "stream",
     "text": [
      "tensor([1.2705, 1.8524, 1.8111, 1.0795, 0.5577, 1.5440])\n"
     ]
    }
   ],
   "source": [
    "attn_scores_2 = query_2 @ keys.T\n",
    "print(attn_scores_2)"
   ]
  },
  {
   "cell_type": "code",
   "execution_count": 29,
   "id": "b3d6b6af-f832-4b09-9335-7a02a9767d2b",
   "metadata": {},
   "outputs": [
    {
     "name": "stdout",
     "output_type": "stream",
     "text": [
      "tensor([0.1500, 0.2264, 0.2199, 0.1311, 0.0906, 0.1820])\n"
     ]
    }
   ],
   "source": [
    "d_k = keys.shape[-1]\n",
    "attn_weights_2 = torch.softmax(attn_scores_2 / d_k ** 0.5, dim=-1) # scaled-dot product attention\n",
    "print(attn_weights_2)"
   ]
  },
  {
   "cell_type": "code",
   "execution_count": 30,
   "id": "a0cd2c06-257f-486e-99df-2a2e6a5e5683",
   "metadata": {},
   "outputs": [
    {
     "name": "stdout",
     "output_type": "stream",
     "text": [
      "tensor([0.3061, 0.8210])\n"
     ]
    }
   ],
   "source": [
    "context_vec_2 = attn_weights_2 @ values\n",
    "print(context_vec_2)"
   ]
  },
  {
   "cell_type": "code",
   "execution_count": 33,
   "id": "ded43f86-feff-4afc-a91e-f39c7f26d1a2",
   "metadata": {},
   "outputs": [],
   "source": [
    "class SelfAttentionV1(nn.Module):\n",
    "    def __init__(self, dim_in, dim_out):\n",
    "        super().__init__()\n",
    "\n",
    "        self.W_query = nn.Parameter(torch.rand(dim_in, dim_out))\n",
    "        self.W_key   = nn.Parameter(torch.rand(dim_in, dim_out))\n",
    "        self.W_value = nn.Parameter(torch.rand(dim_in, dim_out))\n",
    "\n",
    "    def forward(self, x):\n",
    "        keys    = x @ self.W_key\n",
    "        queries = x @ self.W_query\n",
    "        values  = x @ self.W_value\n",
    "\n",
    "        attn_scores  = queries @ keys.T\n",
    "        attn_weights = torch.softmax(attn_scores / keys.shape[-1] ** 0.5, dim = -1)\n",
    "        context_vec  = attn_weights @ values\n",
    "        return context_vec"
   ]
  },
  {
   "cell_type": "code",
   "execution_count": 34,
   "id": "4444f682-5d80-4861-8fdd-d799fb09ab05",
   "metadata": {},
   "outputs": [
    {
     "name": "stdout",
     "output_type": "stream",
     "text": [
      "tensor([[0.2996, 0.8053],\n",
      "        [0.3061, 0.8210],\n",
      "        [0.3058, 0.8203],\n",
      "        [0.2948, 0.7939],\n",
      "        [0.2927, 0.7891],\n",
      "        [0.2990, 0.8040]], grad_fn=<MmBackward0>)\n"
     ]
    }
   ],
   "source": [
    "torch.manual_seed(123)\n",
    "self_attn = SelfAttentionV1(dim_in, dim_out)\n",
    "print(self_attn(inputs))"
   ]
  },
  {
   "cell_type": "code",
   "execution_count": 37,
   "id": "db956ecb-7d4b-4274-b454-ce275196c5fd",
   "metadata": {},
   "outputs": [],
   "source": [
    "class SelfAttentionV2(nn.Module):\n",
    "    def __init__(self, dim_in, dim_out, qkv_bias=False):\n",
    "        super().__init__()\n",
    "\n",
    "        self.W_query = nn.Linear(dim_in, dim_out, bias=qkv_bias)\n",
    "        self.W_key   = nn.Linear(dim_in, dim_out, bias=qkv_bias)\n",
    "        self.W_value = nn.Linear(dim_in, dim_out, bias=qkv_bias)\n",
    "\n",
    "    def forward(self, x):\n",
    "        queries = self.W_query(x)\n",
    "        keys = self.W_key(x)\n",
    "        values = self.W_value(x)\n",
    "\n",
    "        attn_scores = queries @ keys.T\n",
    "        attn_weights = torch.softmax(attn_scores / keys.shape[-1] ** 0.5, dim=-1)\n",
    "        context_vec = attn_weights @ values\n",
    "        return context_vec"
   ]
  },
  {
   "cell_type": "code",
   "execution_count": 39,
   "id": "bd85902b-6a99-4581-a819-d0796e7a534f",
   "metadata": {},
   "outputs": [
    {
     "name": "stdout",
     "output_type": "stream",
     "text": [
      "tensor([[-0.0739,  0.0713],\n",
      "        [-0.0748,  0.0703],\n",
      "        [-0.0749,  0.0702],\n",
      "        [-0.0760,  0.0685],\n",
      "        [-0.0763,  0.0679],\n",
      "        [-0.0754,  0.0693]], grad_fn=<MmBackward0>)\n"
     ]
    }
   ],
   "source": [
    "torch.manual_seed(789)\n",
    "self_attn_2 = SelfAttentionV2(dim_in, dim_out)\n",
    "print(self_attn_2(inputs))"
   ]
  },
  {
   "cell_type": "code",
   "execution_count": 47,
   "id": "96f2ba54-acf5-43c2-b0ff-9f023bdd0ce3",
   "metadata": {},
   "outputs": [
    {
     "name": "stdout",
     "output_type": "stream",
     "text": [
      "Parameter containing:\n",
      "tensor([[ 0.3161,  0.4568,  0.5118],\n",
      "        [-0.1683, -0.3379, -0.0918]], requires_grad=True)\n"
     ]
    }
   ],
   "source": [
    "print(self_attn_2.W_query.weight)"
   ]
  },
  {
   "cell_type": "code",
   "execution_count": 54,
   "id": "339cf31f-ef9c-45bc-90c8-076b3f6383d9",
   "metadata": {},
   "outputs": [],
   "source": [
    "self_attn.W_query.data = self_attn_2.W_query.weight.T\n",
    "self_attn.W_key.data = self_attn_2.W_key.weight.T\n",
    "self_attn.W_value.data = self_attn_2.W_value.weight.T"
   ]
  },
  {
   "cell_type": "code",
   "execution_count": 55,
   "id": "9ffb764b-ac12-4ed3-846d-6c4c11328cb2",
   "metadata": {},
   "outputs": [
    {
     "name": "stdout",
     "output_type": "stream",
     "text": [
      "tensor([[-0.0739,  0.0713],\n",
      "        [-0.0748,  0.0703],\n",
      "        [-0.0749,  0.0702],\n",
      "        [-0.0760,  0.0685],\n",
      "        [-0.0763,  0.0679],\n",
      "        [-0.0754,  0.0693]], grad_fn=<MmBackward0>)\n",
      "tensor([[-0.0739,  0.0713],\n",
      "        [-0.0748,  0.0703],\n",
      "        [-0.0749,  0.0702],\n",
      "        [-0.0760,  0.0685],\n",
      "        [-0.0763,  0.0679],\n",
      "        [-0.0754,  0.0693]], grad_fn=<MmBackward0>)\n"
     ]
    }
   ],
   "source": [
    "print(self_attn(inputs))\n",
    "print(self_attn_2(inputs))"
   ]
  },
  {
   "cell_type": "code",
   "execution_count": 56,
   "id": "68e13a42-66c6-4712-90aa-91ea2900eed1",
   "metadata": {},
   "outputs": [
    {
     "name": "stdout",
     "output_type": "stream",
     "text": [
      "tensor([[ 0.3161, -0.1683],\n",
      "        [ 0.4568, -0.3379],\n",
      "        [ 0.5118, -0.0918]]) tensor([[ 0.3161, -0.1683],\n",
      "        [ 0.4568, -0.3379],\n",
      "        [ 0.5118, -0.0918]], grad_fn=<PermuteBackward0>)\n",
      "tensor([[ 0.4058,  0.2134],\n",
      "        [-0.4704, -0.2601],\n",
      "        [ 0.2368, -0.5105]]) tensor([[ 0.4058,  0.2134],\n",
      "        [-0.4704, -0.2601],\n",
      "        [ 0.2368, -0.5105]], grad_fn=<PermuteBackward0>)\n",
      "tensor([[ 0.2526,  0.5191],\n",
      "        [-0.1415, -0.0852],\n",
      "        [-0.1962, -0.2043]]) tensor([[ 0.2526,  0.5191],\n",
      "        [-0.1415, -0.0852],\n",
      "        [-0.1962, -0.2043]], grad_fn=<PermuteBackward0>)\n"
     ]
    }
   ],
   "source": [
    "print(self_attn.W_query.data, self_attn_2.W_query.weight.T)\n",
    "print(self_attn.W_key.data, self_attn_2.W_key.weight.T)\n",
    "print(self_attn.W_value.data, self_attn_2.W_value.weight.T)"
   ]
  },
  {
   "cell_type": "code",
   "execution_count": 57,
   "id": "991cd48f-80fb-420d-bf6f-a14c32bece2e",
   "metadata": {},
   "outputs": [
    {
     "name": "stdout",
     "output_type": "stream",
     "text": [
      "tensor([[-0.0739,  0.0713],\n",
      "        [-0.0748,  0.0703],\n",
      "        [-0.0749,  0.0702],\n",
      "        [-0.0760,  0.0685],\n",
      "        [-0.0763,  0.0679],\n",
      "        [-0.0754,  0.0693]], grad_fn=<MmBackward0>)\n",
      "tensor([[-0.0739,  0.0713],\n",
      "        [-0.0748,  0.0703],\n",
      "        [-0.0749,  0.0702],\n",
      "        [-0.0760,  0.0685],\n",
      "        [-0.0763,  0.0679],\n",
      "        [-0.0754,  0.0693]], grad_fn=<MmBackward0>)\n"
     ]
    }
   ],
   "source": [
    "print(self_attn(inputs))\n",
    "print(self_attn_2(inputs))"
   ]
  },
  {
   "cell_type": "code",
   "execution_count": null,
   "id": "905f4917-259a-4952-8ba1-1a1eb42fcc35",
   "metadata": {},
   "outputs": [],
   "source": []
  }
 ],
 "metadata": {
  "kernelspec": {
   "display_name": "Python 3 (ipykernel)",
   "language": "python",
   "name": "python3"
  },
  "language_info": {
   "codemirror_mode": {
    "name": "ipython",
    "version": 3
   },
   "file_extension": ".py",
   "mimetype": "text/x-python",
   "name": "python",
   "nbconvert_exporter": "python",
   "pygments_lexer": "ipython3",
   "version": "3.11.4"
  }
 },
 "nbformat": 4,
 "nbformat_minor": 5
}
