{
 "cells": [
  {
   "cell_type": "code",
   "execution_count": 1,
   "id": "a373b0c4-7a6e-4252-a20d-6f5a0e989113",
   "metadata": {},
   "outputs": [],
   "source": [
    "import torch\n",
    "import torch.nn as nn"
   ]
  },
  {
   "cell_type": "code",
   "execution_count": 2,
   "id": "e3d6d72b-1f68-4d5c-831c-477a0198b495",
   "metadata": {},
   "outputs": [],
   "source": [
    "input_ids = torch.tensor([2,3,5,1])"
   ]
  },
  {
   "cell_type": "code",
   "execution_count": 3,
   "id": "29f47ee8-e02d-4eaa-8ecf-9bfe3d63d5f4",
   "metadata": {},
   "outputs": [
    {
     "name": "stdout",
     "output_type": "stream",
     "text": [
      "Parameter containing:\n",
      "tensor([[ 0.3374, -0.1778, -0.1690],\n",
      "        [ 0.9178,  1.5810,  1.3010],\n",
      "        [ 1.2753, -0.2010, -0.1606],\n",
      "        [-0.4015,  0.9666, -1.1481],\n",
      "        [-1.1589,  0.3255, -0.6315],\n",
      "        [-2.8400, -0.7849, -1.4096]], requires_grad=True)\n"
     ]
    }
   ],
   "source": [
    "vocab_size = 6\n",
    "embed_dim = 3\n",
    "\n",
    "torch.manual_seed(123)\n",
    "embed_layer = nn.Embedding(vocab_size, embed_dim)\n",
    "print(embed_layer.weight)"
   ]
  },
  {
   "cell_type": "code",
   "execution_count": 4,
   "id": "12326b6c-5f78-4972-923d-4efd54c91592",
   "metadata": {},
   "outputs": [],
   "source": [
    "vocab_size = 50257\n",
    "embed_dim = 256\n",
    "\n",
    "vocab = nn.Embedding(vocab_size, embed_dim)"
   ]
  },
  {
   "cell_type": "code",
   "execution_count": 5,
   "id": "5f757090-b686-46f5-9f25-30662dc8230f",
   "metadata": {},
   "outputs": [],
   "source": [
    "with open(\"the-verdict.txt\", \"r\", encoding=\"utf-8\") as f:\n",
    "    raw_data = f.read()"
   ]
  },
  {
   "cell_type": "code",
   "execution_count": null,
   "id": "0e43ec1e-e918-4753-8731-97467dadb36c",
   "metadata": {},
   "outputs": [],
   "source": []
  }
 ],
 "metadata": {
  "kernelspec": {
   "display_name": "Python 3 (ipykernel)",
   "language": "python",
   "name": "python3"
  },
  "language_info": {
   "codemirror_mode": {
    "name": "ipython",
    "version": 3
   },
   "file_extension": ".py",
   "mimetype": "text/x-python",
   "name": "python",
   "nbconvert_exporter": "python",
   "pygments_lexer": "ipython3",
   "version": "3.11.4"
  }
 },
 "nbformat": 4,
 "nbformat_minor": 5
}
