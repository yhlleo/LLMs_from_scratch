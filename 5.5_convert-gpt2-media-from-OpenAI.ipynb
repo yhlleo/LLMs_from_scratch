{
 "cells": [
  {
   "cell_type": "code",
   "execution_count": 2,
   "id": "a348dd57-a1f2-47af-8b60-f6df52516389",
   "metadata": {},
   "outputs": [
    {
     "name": "stdout",
     "output_type": "stream",
     "text": [
      "File already exists and is up-to-date: ch05/gpt2/355M/checkpoint\n",
      "File already exists and is up-to-date: ch05/gpt2/355M/encoder.json\n",
      "File already exists and is up-to-date: ch05/gpt2/355M/hparams.json\n",
      "File already exists and is up-to-date: ch05/gpt2/355M/model.ckpt.data-00000-of-00001\n",
      "File already exists and is up-to-date: ch05/gpt2/355M/model.ckpt.index\n",
      "File already exists and is up-to-date: ch05/gpt2/355M/model.ckpt.meta\n",
      "File already exists and is up-to-date: ch05/gpt2/355M/vocab.bpe\n"
     ]
    }
   ],
   "source": [
    "from ch05.gpt_download import download_and_load_gpt2\n",
    "settings, params = download_and_load_gpt2(model_size=\"355M\", models_dir=\"ch05/gpt2\")"
   ]
  },
  {
   "cell_type": "code",
   "execution_count": 3,
   "id": "aba395a9-b393-4467-a069-358946eb6bd8",
   "metadata": {},
   "outputs": [
    {
     "name": "stdout",
     "output_type": "stream",
     "text": [
      "{'n_vocab': 50257, 'n_ctx': 1024, 'n_embd': 1024, 'n_head': 16, 'n_layer': 24} ['blocks', 'b', 'g', 'wpe', 'wte']\n"
     ]
    }
   ],
   "source": [
    "print(settings, [k for k in params])"
   ]
  },
  {
   "cell_type": "code",
   "execution_count": 4,
   "id": "002512de-0a68-443e-a653-1381b1f5384c",
   "metadata": {},
   "outputs": [
    {
     "name": "stdout",
     "output_type": "stream",
     "text": [
      "{'vocab_size': 50257, 'context_length': 1024, 'emb_dim': 1024, 'num_heads': 16, 'n_layers': 24, 'drop_rate': 0.0, 'qkv_bias': True}\n"
     ]
    }
   ],
   "source": [
    "from codes.gpt_model import GPTModel\n",
    "from codes.configs import gpt2_media_config\n",
    "\n",
    "config = gpt2_media_config()\n",
    "print(config)"
   ]
  },
  {
   "cell_type": "code",
   "execution_count": 5,
   "id": "58d70d62-a6f4-4195-977c-8a48c3b4426a",
   "metadata": {},
   "outputs": [],
   "source": [
    "gpt = GPTModel(config)"
   ]
  },
  {
   "cell_type": "code",
   "execution_count": 7,
   "id": "d3df77e9-46aa-4d4f-b1b2-dc604404f920",
   "metadata": {},
   "outputs": [],
   "source": [
    "from codes.model_convert import load_weights_into_gpt\n",
    "load_weights_into_gpt(gpt, params)"
   ]
  },
  {
   "cell_type": "code",
   "execution_count": 9,
   "id": "37e3d8b6-5f29-4723-be90-361b91bc3e56",
   "metadata": {},
   "outputs": [],
   "source": [
    "import torch\n",
    "torch.save(gpt.state_dict(), \"./ch05/gpt2-media-355m-pretrained.pth\")"
   ]
  },
  {
   "cell_type": "code",
   "execution_count": null,
   "id": "0706314a-4cb5-4161-b574-45a2f615b78c",
   "metadata": {},
   "outputs": [],
   "source": []
  }
 ],
 "metadata": {
  "kernelspec": {
   "display_name": "Python 3 (ipykernel)",
   "language": "python",
   "name": "python3"
  },
  "language_info": {
   "codemirror_mode": {
    "name": "ipython",
    "version": 3
   },
   "file_extension": ".py",
   "mimetype": "text/x-python",
   "name": "python",
   "nbconvert_exporter": "python",
   "pygments_lexer": "ipython3",
   "version": "3.11.4"
  }
 },
 "nbformat": 4,
 "nbformat_minor": 5
}
