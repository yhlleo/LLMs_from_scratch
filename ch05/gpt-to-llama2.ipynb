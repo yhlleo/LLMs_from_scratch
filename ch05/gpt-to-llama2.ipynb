{
 "cells": [
  {
   "cell_type": "markdown",
   "id": "59e43670-ada9-4919-999c-9a6a7ef823a9",
   "metadata": {},
   "source": [
    "**Overview Framework of GTP and Llama**:\n",
    "\n",
    "<img src=\"https://sebastianraschka.com/images/LLMs-from-scratch-images/bonus/gpt-to-llama/gpt2-to-llama2-llama3.webp?1\">"
   ]
  },
  {
   "cell_type": "markdown",
   "id": "4f5c5cb2-eefd-43c0-9b19-de11b39093c3",
   "metadata": {},
   "source": [
    "**Core modifications**:\n",
    "- Remove dropout operations\n",
    "- Replace LayerNorm with RMSNorm\n",
    "- Replace GELU activation layer with SiLU or Swish activation layer, besides use additional linear layer as gate (SwiGLU)\n",
    "- Replace APE(absolute position embeddings) with RoPE (rotary position embeddings)\n",
    "- Some other changements: embedding dimension (1600 -> 4096), vocabulary size (50256 -> 32000), number of heads in MMHA (25 -> 32), number of repeated transformer blocks (48 -> 32), hidden layer of dimension (6400 -> 11008)"
   ]
  },
  {
   "cell_type": "code",
   "execution_count": 3,
   "id": "97603665-6240-4815-bda5-0e6da5c00ffc",
   "metadata": {},
   "outputs": [
    {
     "name": "stdout",
     "output_type": "stream",
     "text": [
      "huggingface_hub version: 0.27.0\n",
      "sentencepiece version: 0.2.0\n",
      "torch version: 2.2.2\n"
     ]
    }
   ],
   "source": [
    "from importlib.metadata import version\n",
    "\n",
    "pkgs = [\n",
    "    \"huggingface_hub\",  # to download pretrained weights\n",
    "    \"sentencepiece\",    # to implement the tokenizer\n",
    "    \"torch\",            # to implement the model\n",
    "]\n",
    "for p in pkgs:\n",
    "    print(f\"{p} version: {version(p)}\")"
   ]
  },
  {
   "cell_type": "markdown",
   "id": "5c194878-b4a8-46bd-b7ce-f85a11841d7b",
   "metadata": {},
   "source": [
    "### Replace LayerNorm with RMSNorm layer\n",
    "\n",
    "Recall the LayerNorm:\n",
    "\n",
    "$$y_i = \\alpha\\frac{x_i - \\bar{x}}{\\sigma} + \\beta, \\quad \\text{where} \\quad \\bar{x} = \\frac{1}{n}\\sum_{i=0}^n x_i, \\quad \\sigma = \\sqrt{\\frac{1}{n}\\sum_{i=1}^n (x_i - \\bar{x})^2}$$\n",
    "\n",
    "where the $\\alpha$ and $\\beta$ are trainable parameters.\n",
    "\n",
    "- First, we replace LayerNorm by Root Mean Square Layer Normalization (RMSNorm)\n",
    "- LayerNorm normalizes inputs using mean and variance, while RMSNorm uses only the root mean square, which improves computational efficiency\n",
    "- The RMSNorm operation is as follows, where $x$ is the input $\\gamma$ is a trainable parameter (vector), and $\\epsilon$ is a small constant to avoid zero-division errors:\n",
    "\n",
    "$$y_i = \\frac{x_i}{\\text{RMS}(x)} \\gamma_i, \\quad \\text{where} \\quad \\text{RMS}(x) = \\sqrt{\\epsilon + \\frac{1}{n} \\sum x_i^2}$$\n",
    "\n",
    "- For more details, please see the paper [Root Mean Square Layer Normalization (2019)](https://arxiv.org/abs/1910.07467)"
   ]
  },
  {
   "cell_type": "code",
   "execution_count": 8,
   "id": "6e678e49-1374-4ccb-b95e-f696ebe119ae",
   "metadata": {},
   "outputs": [],
   "source": [
    "import torch\n",
    "import torch.nn as nn\n",
    "\n",
    "class RMSNorm(nn.Module):\n",
    "    def __init__(self, embed_dim, eps=1e-5):\n",
    "        super().__init__()\n",
    "        self.eps = eps\n",
    "        self.embed_dim = embed_dim\n",
    "        self.gamma = nn.Parameter(torch.ones(embed_dim)).float()\n",
    "\n",
    "    def forward(self, x):\n",
    "        rms = x.pow(2).mean(dim=-1, keepdim=True)\n",
    "        rms = x * torch.rsqrt(self.eps + rms)\n",
    "        x_normed = (rms * self.gamma.to(x.device)).to(dtype=x.dtype)\n",
    "        return x_normed"
   ]
  },
  {
   "cell_type": "code",
   "execution_count": 11,
   "id": "b8f98e7b-88cb-413a-b8fe-96225fc7e5c9",
   "metadata": {},
   "outputs": [
    {
     "name": "stdout",
     "output_type": "stream",
     "text": [
      "Our implementation: tensor([[[ 0.8834, -0.4655, -0.7948, -1.5398],\n",
      "         [ 0.8053,  1.5254, -0.5074, -0.8759],\n",
      "         [-0.1619, -0.4049,  0.7016, -1.8214]],\n",
      "\n",
      "        [[ 1.3348, -0.1232,  0.9638, -1.1288],\n",
      "         [-0.8511, -1.5285, -0.4420,  0.8624],\n",
      "         [ 0.9398,  0.2082,  1.7241, -0.3180]]], grad_fn=<MulBackward0>)\n"
     ]
    }
   ],
   "source": [
    "torch.manual_seed(123)\n",
    "\n",
    "batch = torch.randn(2, 3, 4)\n",
    "rms_norm = RMSNorm(embed_dim=batch.shape[-1])\n",
    "rms_normed_batch = rms_norm(batch)\n",
    "\n",
    "print(\"Our implementation:\", rms_normed_batch)"
   ]
  },
  {
   "cell_type": "markdown",
   "id": "1afa7b3b-73c1-4ee1-b269-beddb6854814",
   "metadata": {},
   "source": [
    "### Replace GELU with SiLU activation\n",
    "\n",
    "Recall the GELU activation:\n",
    "\n",
    "$$\\text{gelu}(x) = \\frac{1}{2}x\\left[1 + \\tanh{\\left(x\\sqrt{\\frac{2}{\\pi}} (x+0.044715x^3)\\right)}\\right] $$\n",
    "\n",
    "- Llama uses the SiLU activation function (instead of GELU), which is also known as the Swish function:\n",
    "\n",
    "$$\n",
    "\\text{silu}(x) = x \\cdot \\sigma(x), \\quad \\text{where} \\quad \\sigma(x) \\text{ is the logistic sigmoid.}\n",
    "$$\n",
    "\n",
    "- For more information, see the SiLU paper: [Sigmoid-Weighted Linear Units for Neural Network Function Approximation in Reinforcement Learning (2017)](https://arxiv.org/abs/1702.03118)"
   ]
  },
  {
   "cell_type": "code",
   "execution_count": 12,
   "id": "fa8f3097-0447-4d16-8e10-2de28743635d",
   "metadata": {},
   "outputs": [],
   "source": [
    "class SiLU(nn.Module):\n",
    "    def __init__(self):\n",
    "        super(SiLU, self).__init__()\n",
    "\n",
    "    def forward(self, x):\n",
    "        return x * torch.sigmoid(x)"
   ]
  },
  {
   "cell_type": "code",
   "execution_count": 17,
   "id": "dda740e3-d48b-47f7-8a67-5b0afe0560de",
   "metadata": {},
   "outputs": [],
   "source": [
    "import matplotlib.pyplot as plt"
   ]
  },
  {
   "cell_type": "code",
   "execution_count": 23,
   "id": "893ebc8a-4328-4ca7-8338-4b71bfa0f985",
   "metadata": {},
   "outputs": [],
   "source": [
    "gelu = nn.GELU()\n",
    "silu = SiLU()\n",
    "\n",
    "x = torch.linspace(-5, 5, 100)\n",
    "y_gelu, y_silu = gelu(x), silu(x)"
   ]
  },
  {
   "cell_type": "code",
   "execution_count": 24,
   "id": "476de937-9d89-458a-9765-99ca142242be",
   "metadata": {},
   "outputs": [
    {
     "data": {
      "image/png": "[encoded data removed]",
      "text/plain": [
       "<Figure size 1000x300 with 2 Axes>"
      ]
     },
     "metadata": {},
     "output_type": "display_data"
    }
   ],
   "source": [
    "plt.figure(figsize=(10,3))\n",
    "for i, (y, label) in enumerate(zip([y_gelu, y_silu], [\"GELU\", \"SiLU\"]), 1):\n",
    "    plt.subplot(1,2,i)\n",
    "    plt.plot(x,y)\n",
    "    plt.title(f\"{label} activation function\")\n",
    "    plt.xlabel(\"x\")\n",
    "    plt.ylabel(f\"{label}(x)\")\n",
    "    plt.grid(True)\n",
    "plt.tight_layout()\n",
    "plt.show()"
   ]
  },
  {
   "cell_type": "markdown",
   "id": "3638e396-22c1-4b06-93cd-972883e0c18f",
   "metadata": {},
   "source": [
    "### Update the FeedForward module\n",
    "\n",
    "- In fact, Llama uses a \"Gates Linear Unit\" (GLU) variant of SiLU called SwiGLU, which essentially results in a slightly differently structured `FeedForward` module\n",
    "- SwiGLU uses a gating mechanism in the feedforward layer, with the formula:\n",
    "\n",
    "$$\\text{SwiGLU}(x) = \\text{SiLU}(\\text{Linear}_1(x)) * (\\text{Linear}_2(x))$$\n",
    "\n",
    "- Here, $\\text{Linear}_1$ and $\\text{Linear}_2$ are two linear layers, and $*$ denotes element-wise multiplication\n",
    "- The third linear layer, $\\text{Linear}_3$, is applied after this gated activation\n",
    "\n",
    "- For more information, see SwiGLU paper: [GLU Variants Improve Transformer (2020)](https://arxiv.org/abs/2002.05202)"
   ]
  },
  {
   "cell_type": "code",
   "execution_count": 25,
   "id": "f6a80c6c-60a9-4817-8c63-53a9e4b5c774",
   "metadata": {},
   "outputs": [],
   "source": [
    "class FeedForward(nn.Module):\n",
    "    def __init__(self, cfg):\n",
    "        self.fc1 = nn.Linear(cfg['emb_dim'], cfg['hidden_dim'], dtype=cfg[\"dtype\"], bias=False)\n",
    "        self.fc2 = nn.Linear(cfg['emb_dim'], cfg['hidden_dim'], dtype=cfg[\"dtype\"], bias=False)\n",
    "        self.fc3 = nn.Linear(cfg['hidden_dim'], cfg['emb_dim'], dtype=cfg['dtype'], bias=False)\n",
    "\n",
    "        self.silu = SiLU()\n",
    "\n",
    "    def forward(self, x):\n",
    "        return self.fc3(self.silu(self.fc1(x)) * self.fc2(x))"
   ]
  },
  {
   "cell_type": "code",
   "execution_count": null,
   "id": "1b75e10f-4b9e-4fb9-8a05-8669a85b660a",
   "metadata": {},
   "outputs": [],
   "source": []
  }
 ],
 "metadata": {
  "kernelspec": {
   "display_name": "Python 3 (ipykernel)",
   "language": "python",
   "name": "python3"
  },
  "language_info": {
   "codemirror_mode": {
    "name": "ipython",
    "version": 3
   },
   "file_extension": ".py",
   "mimetype": "text/x-python",
   "name": "python",
   "nbconvert_exporter": "python",
   "pygments_lexer": "ipython3",
   "version": "3.11.4"
  }
 },
 "nbformat": 4,
 "nbformat_minor": 5
}
