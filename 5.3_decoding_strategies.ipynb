{
 "cells": [
  {
   "cell_type": "code",
   "execution_count": 17,
   "id": "aa97b46d-716e-42ea-8e41-5b816c50e368",
   "metadata": {},
   "outputs": [],
   "source": [
    "import torch\n",
    "import matplotlib.pyplot as plt"
   ]
  },
  {
   "cell_type": "code",
   "execution_count": 18,
   "id": "f1d184c5-a79f-4108-8f7a-9d40b1907e65",
   "metadata": {},
   "outputs": [],
   "source": [
    "vocab = {\"closer\": 0,\n",
    "         \"every\": 1,\n",
    "         \"effort\": 2,\n",
    "         \"forward\": 3,\n",
    "         \"inches\": 4,\n",
    "         \"moves\": 5,\n",
    "         \"pizza\": 6,\n",
    "         \"toward\": 7,\n",
    "         \"you\": 8\n",
    "        }\n",
    "\n",
    "inverse_vocab = {v:k for k,v in vocab.items()}"
   ]
  },
  {
   "cell_type": "code",
   "execution_count": 19,
   "id": "8b12b5e7-f5cc-4713-94e1-2511399dcf6a",
   "metadata": {},
   "outputs": [
    {
     "name": "stdout",
     "output_type": "stream",
     "text": [
      "forward\n"
     ]
    }
   ],
   "source": [
    "next_token_logits = torch.tensor(\n",
    "    [4.51, 0.89, -1.9, 6.75, 1.63, -1.62, -1.89, 6.29, 1.79]\n",
    ")\n",
    "\n",
    "probs = torch.softmax(next_token_logits, dim=0)\n",
    "next_token_id = torch.argmax(probs).item()\n",
    "print(inverse_vocab[next_token_id])"
   ]
  },
  {
   "cell_type": "code",
   "execution_count": 4,
   "id": "7de0005f-bf56-4edb-a299-1cec23e35251",
   "metadata": {},
   "outputs": [
    {
     "name": "stdout",
     "output_type": "stream",
     "text": [
      "forward\n"
     ]
    }
   ],
   "source": [
    "torch.manual_seed(123)\n",
    "next_token_id = torch.multinomial(probs, num_samples=1).item()\n",
    "print(inverse_vocab[next_token_id])"
   ]
  },
  {
   "cell_type": "code",
   "execution_count": 5,
   "id": "543b36d8-66a3-4255-b9b1-db6e5607ce87",
   "metadata": {},
   "outputs": [
    {
     "name": "stdout",
     "output_type": "stream",
     "text": [
      "71 x closer\n",
      "0 x every\n",
      "0 x effort\n",
      "579 x forward\n",
      "2 x inches\n",
      "0 x moves\n",
      "0 x pizza\n",
      "348 x toward\n"
     ]
    }
   ],
   "source": [
    "def print_sampled_tokens(probs):\n",
    "    torch.manual_seed(123)\n",
    "    sample = [torch.multinomial(probs, num_samples=1).item() for _ in range(1000)]\n",
    "\n",
    "    sampled_ids = torch.bincount(torch.tensor(sample))\n",
    "    for i, freq in enumerate(sampled_ids):\n",
    "        print(f\"{freq} x {inverse_vocab[i]}\")\n",
    "\n",
    "print_sampled_tokens(probs)"
   ]
  },
  {
   "cell_type": "code",
   "execution_count": 6,
   "id": "a71eb35d-80a4-41ae-a040-a6b4fe401dbb",
   "metadata": {},
   "outputs": [
    {
     "data": {
      "image/png": "[encoded data removed]",
      "text/plain": [
       "<Figure size 500x300 with 1 Axes>"
      ]
     },
     "metadata": {},
     "output_type": "display_data"
    }
   ],
   "source": [
    "def softmax_with_temperature(logits, temperature):\n",
    "    scaled_logits = logits / temperature\n",
    "    return torch.softmax(scaled_logits, dim=0)\n",
    "\n",
    "temperatures = [1, 0.1, 5]\n",
    "scaled_probs = [softmax_with_temperature(next_token_logits, T) for T in temperatures]\n",
    "\n",
    "x = torch.arange(len(vocab))\n",
    "bar_width = 0.15\n",
    "fig, ax = plt.subplots(figsize=(5,3))\n",
    "for i, T in enumerate(temperatures):\n",
    "    rects = ax.bar(x + i*bar_width, scaled_probs[i], bar_width, label=f\"Temperature = {T}\")\n",
    "\n",
    "ax.set_ylabel(\"Probability\")\n",
    "ax.set_xticks(x)\n",
    "ax.set_xticklabels(vocab.keys(), rotation=90)\n",
    "ax.legend()\n",
    "plt.tight_layout()\n",
    "plt.show()"
   ]
  },
  {
   "cell_type": "code",
   "execution_count": 7,
   "id": "b459e63a-cac0-488b-83f7-83661836f96c",
   "metadata": {},
   "outputs": [
    {
     "name": "stdout",
     "output_type": "stream",
     "text": [
      "tensor([6.7500, 6.2900, 4.5100])\n",
      "tensor([3, 7, 0])\n"
     ]
    }
   ],
   "source": [
    "top_k = 3\n",
    "top_logits, top_pos = torch.topk(next_token_logits, top_k)\n",
    "print(top_logits)\n",
    "print(top_pos)"
   ]
  },
  {
   "cell_type": "code",
   "execution_count": 13,
   "id": "0b03590a-2ba1-46d0-b137-0d19656c507a",
   "metadata": {},
   "outputs": [
    {
     "name": "stdout",
     "output_type": "stream",
     "text": [
      "tensor([4.5100,   -inf,   -inf, 6.7500,   -inf,   -inf,   -inf, 6.2900,   -inf])\n"
     ]
    }
   ],
   "source": [
    "new_logits = torch.where(\n",
    "    condition=next_token_logits < top_logits[-1],\n",
    "    input=torch.tensor(-torch.inf),\n",
    "    other=next_token_logits\n",
    ")\n",
    "print(new_logits)"
   ]
  },
  {
   "cell_type": "code",
   "execution_count": 14,
   "id": "e75b677e-1d2b-410b-bd70-c5dac965301c",
   "metadata": {},
   "outputs": [
    {
     "name": "stdout",
     "output_type": "stream",
     "text": [
      "tensor([0.0613, 0.0000, 0.0000, 0.5755, 0.0000, 0.0000, 0.0000, 0.3633, 0.0000])\n"
     ]
    }
   ],
   "source": [
    "topk_probs = torch.softmax(new_logits, dim=0)\n",
    "print(topk_probs)"
   ]
  },
  {
   "cell_type": "code",
   "execution_count": 28,
   "id": "c5a10854-daff-4052-b5a0-1e5c00b1bc1a",
   "metadata": {},
   "outputs": [],
   "source": [
    "def generate(model, idx, max_new_tokens, context_size, temperature=0.0, top_k=None, eos_id=None):\n",
    "    for _ in range(max_new_tokens):\n",
    "        idx_cond = idx[:,-context_size:]\n",
    "        with torch.no_grad():\n",
    "            logits = model(idx_cond)\n",
    "        logits = logits[:, -1, :]\n",
    "\n",
    "        if top_k is not None:\n",
    "            top_logits, _ = torch.topk(logits, top_k)\n",
    "            min_val = top_logits[:, -1]\n",
    "            logits = torch.where(logits < min_val, \n",
    "                                 torch.tensor(-torch.inf).to(logits.device), \n",
    "                                 logits)\n",
    "\n",
    "        if temperature > 0.0:\n",
    "            logits /= temperature\n",
    "            probs = torch.softmax(logits, dim=-1)\n",
    "            idx_next = torch.multinomial(probs, num_samples=1)\n",
    "        else:\n",
    "            idx_next = torch.argmax(logits, dim=-1, keepdim=True)\n",
    "        \n",
    "        if idx_next == eos_id:\n",
    "            break\n",
    "\n",
    "        idx = torch.cat([idx, idx_next], dim=-1)\n",
    "    return idx"
   ]
  },
  {
   "cell_type": "code",
   "execution_count": 29,
   "id": "cc81180b-701c-4ad4-abdf-3824828e5b47",
   "metadata": {},
   "outputs": [],
   "source": [
    "from codes.gpt_model import GPTModel\n",
    "from codes.configs import GPT_CONFIG_124M\n",
    "from codes.utils import text_to_token_ids, token_ids_to_text\n",
    "import tiktoken"
   ]
  },
  {
   "cell_type": "code",
   "execution_count": 30,
   "id": "bfaf8f9e-57ba-4bde-bf59-a82ffa60b7f1",
   "metadata": {},
   "outputs": [
    {
     "data": {
      "text/plain": [
       "<All keys matched successfully>"
      ]
     },
     "execution_count": 30,
     "metadata": {},
     "output_type": "execute_result"
    }
   ],
   "source": [
    "model = GPTModel(GPT_CONFIG_124M)\n",
    "pretrained_pth = \"./model_and_optimizer.pth\"\n",
    "state_dict = torch.load(pretrained_pth, map_location=\"cpu\")[\"model_state_dict\"]\n",
    "\n",
    "model.load_state_dict(state_dict)"
   ]
  },
  {
   "cell_type": "code",
   "execution_count": 34,
   "id": "250a92d1-75a0-4308-a4aa-81de030a9186",
   "metadata": {},
   "outputs": [
    {
     "name": "stdout",
     "output_type": "stream",
     "text": [
      "Every effort moves you had always The mere-stream stroke. Gisburn--as such--\n"
     ]
    }
   ],
   "source": [
    "torch.manual_seed(123)\n",
    "tokenizer = tiktoken.get_encoding(\"gpt2\")\n",
    "token_ids = generate(\n",
    "    model,\n",
    "    idx=text_to_token_ids(\"Every effort moves you\", tokenizer),\n",
    "    max_new_tokens=15,\n",
    "    context_size=GPT_CONFIG_124M[\"context_length\"],\n",
    "    top_k=25,\n",
    "    temperature=0.8\n",
    ")\n",
    "\n",
    "print(token_ids_to_text(token_ids, tokenizer))"
   ]
  },
  {
   "cell_type": "code",
   "execution_count": null,
   "id": "7d0f63e8-321f-45b5-8083-fb7d52bb3393",
   "metadata": {},
   "outputs": [],
   "source": []
  }
 ],
 "metadata": {
  "kernelspec": {
   "display_name": "Python 3 (ipykernel)",
   "language": "python",
   "name": "python3"
  },
  "language_info": {
   "codemirror_mode": {
    "name": "ipython",
    "version": 3
   },
   "file_extension": ".py",
   "mimetype": "text/x-python",
   "name": "python",
   "nbconvert_exporter": "python",
   "pygments_lexer": "ipython3",
   "version": "3.11.4"
  }
 },
 "nbformat": 4,
 "nbformat_minor": 5
}
