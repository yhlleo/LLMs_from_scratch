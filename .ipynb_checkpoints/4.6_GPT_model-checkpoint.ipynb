{
 "cells": [
  {
   "cell_type": "code",
   "execution_count": 1,
   "id": "330e411f-edd1-405c-9997-8d57c1780ae2",
   "metadata": {},
   "outputs": [],
   "source": [
    "import torch\n",
    "import torch.nn as nn"
   ]
  },
  {
   "cell_type": "code",
   "execution_count": 2,
   "id": "da966431-b9d3-4506-a6c2-c24bbfb51ce6",
   "metadata": {},
   "outputs": [],
   "source": [
    "class MultiheadAttention(nn.Module):\n",
    "    def __init__(self, dim_in, dim_out,\n",
    "                context_length, dropout, num_heads, qkv_bias=False):\n",
    "        super().__init__()\n",
    "\n",
    "        assert dim_out % num_heads == 0, \\\n",
    "            \"dim_out must be divisible by num_heads\"\n",
    "\n",
    "        self.dim_out = dim_out\n",
    "        self.num_heads = num_heads\n",
    "        self.head_dim = dim_out // num_heads\n",
    "\n",
    "        self.W_query = nn.Linear(dim_in, dim_out, bias=qkv_bias)\n",
    "        self.W_key = nn.Linear(dim_in, dim_out, bias=qkv_bias)\n",
    "        self.W_value = nn.Linear(dim_in, dim_out, bias=qkv_bias)\n",
    "\n",
    "        self.out_proj = nn.Linear(dim_out, dim_out)\n",
    "        self.dropout = nn.Dropout(dropout)\n",
    "\n",
    "        self.register_buffer(\n",
    "            \"mask\",\n",
    "            torch.triu(torch.ones(context_length, context_length), diagonal=1)\n",
    "        )\n",
    "\n",
    "    def split_heads(self, x, batch_size, num_tokens):\n",
    "        x = x.view(batch_size, num_tokens, self.num_heads, self.head_dim)\n",
    "        x = x.transpose(1, 2)\n",
    "        return x\n",
    "\n",
    "    def forward(self, x):\n",
    "        b, num_tokens, dim_in = x.shape\n",
    "        \n",
    "        keys = self.W_key(x)\n",
    "        queries = self.W_query(x)\n",
    "        values = self.W_value(x)\n",
    "\n",
    "        keys = self.split_heads(keys, b, num_tokens)\n",
    "        queries = self.split_heads(queries, b, num_tokens)\n",
    "        values = self.split_heads(values, b, num_tokens)\n",
    "\n",
    "        attn_scores = queries @ keys.transpose(2, 3)\n",
    "        mask_bool = self.mask.bool()[:num_tokens, :num_tokens]\n",
    "        attn_scores = attn_scores.masked_fill(mask_bool, -torch.inf)\n",
    "        \n",
    "        attn_weights = torch.softmax(attn_scores / keys.shape[-1] ** 0.5, dim=-1)\n",
    "        attn_weights = self.dropout(attn_weights)\n",
    "\n",
    "        context_vecs = (attn_weights @ values).transpose(1, 2)\n",
    "        context_vecs = context_vecs.contiguous().view(b, num_tokens, self.dim_out)\n",
    "\n",
    "        context_vecs = self.out_proj(context_vecs)\n",
    "        return context_vecs\n",
    "        "
   ]
  },
  {
   "cell_type": "code",
   "execution_count": 3,
   "id": "51385151-a8fe-4d7a-9187-69a719fa6673",
   "metadata": {},
   "outputs": [],
   "source": [
    "class LayerNorm(nn.Module):\n",
    "    def __init__(self, emb_dim):\n",
    "        super().__init__()\n",
    "\n",
    "        self.eps = 1e-5\n",
    "        self.scale = nn.Parameter(torch.ones(emb_dim))\n",
    "        self.shift = nn.Parameter(torch.zeros(emb_dim))\n",
    "\n",
    "    def forward(self, x):\n",
    "        mean = x.mean(dim=-1, keepdim=True)\n",
    "        var = x.var(dim=-1, keepdim=True, unbiased=False)\n",
    "\n",
    "        norm_x = (x - mean) / torch.sqrt(var + self.eps)\n",
    "        return self.scale * norm_x + self.shift"
   ]
  },
  {
   "cell_type": "code",
   "execution_count": 4,
   "id": "1e2f7aeb-66d3-4726-8dea-f4d5264e9d79",
   "metadata": {},
   "outputs": [],
   "source": [
    "class GELU(nn.Module):\n",
    "    def __init__(self):\n",
    "        super().__init__()\n",
    "\n",
    "    def forward(self, x):\n",
    "        return 0.5 * x * (1 + torch.tanh((\n",
    "            torch.sqrt(torch.tensor(2 / torch.pi)) * \n",
    "            (x + 0.044715 * x**3))\n",
    "        ))"
   ]
  },
  {
   "cell_type": "code",
   "execution_count": 5,
   "id": "dbdcbaf5-e50f-4c51-8449-e000ab640b93",
   "metadata": {},
   "outputs": [],
   "source": [
    "class FeedForward(nn.Module):\n",
    "    def __init__(self, cfg):\n",
    "        super().__init__()\n",
    "\n",
    "        self.layers = nn.Sequential(\n",
    "            nn.Linear(cfg[\"emb_dim\"], 4*cfg[\"emb_dim\"]),\n",
    "            GELU(),\n",
    "            nn.Linear(4*cfg[\"emb_dim\"], cfg[\"emb_dim\"])\n",
    "        )\n",
    "\n",
    "    def forward(self, x):\n",
    "        return self.layers(x)"
   ]
  },
  {
   "cell_type": "code",
   "execution_count": 12,
   "id": "dfbd7c58-9ed5-4655-8c12-a7641ea65708",
   "metadata": {},
   "outputs": [],
   "source": [
    "class TransformerBlock(nn.Module):\n",
    "    def __init__(self, cfg):\n",
    "        super().__init__()\n",
    "\n",
    "        self.attn = MultiheadAttention(\n",
    "            dim_in    = cfg[\"emb_dim\"],\n",
    "            dim_out   = cfg[\"emb_dim\"],\n",
    "            context_length = cfg[\"context_length\"],\n",
    "            num_heads = cfg[\"num_heads\"],\n",
    "            dropout   = cfg[\"drop_rate\"],\n",
    "            qkv_bias  = cfg[\"qkv_bias\"]\n",
    "        )\n",
    "\n",
    "        self.ffn = FeedForward(cfg)\n",
    "        self.norm1 = LayerNorm(cfg[\"emb_dim\"])\n",
    "        self.norm2 = LayerNorm(cfg[\"emb_dim\"])\n",
    "        self.drop_shortcut = nn.Dropout(cfg[\"drop_rate\"])\n",
    "\n",
    "    def forward(self, x):\n",
    "        shortcut = x\n",
    "        x = self.norm1(x)\n",
    "        x = self.attn(x)\n",
    "        x = self.drop_shortcut(x)\n",
    "        x = x + shortcut\n",
    "\n",
    "        shortcut = x\n",
    "        x = self.norm2(x)\n",
    "        x = self.ffn(x)\n",
    "        x = self.drop_shortcut(x)\n",
    "        x = x + shortcut\n",
    "        return x"
   ]
  },
  {
   "cell_type": "code",
   "execution_count": 13,
   "id": "50583a2d-55a3-4e0f-8e36-21963713affd",
   "metadata": {},
   "outputs": [],
   "source": [
    "GPT_CONFIG_124M = {\n",
    "    \"vocab_size\": 50257,\n",
    "    \"context_length\": 1024,\n",
    "    \"emb_dim\": 768,\n",
    "    \"num_heads\": 12,\n",
    "    \"n_layers\": 12,\n",
    "    \"drop_rate\": 0.1,\n",
    "    \"qkv_bias\": False\n",
    "}"
   ]
  },
  {
   "cell_type": "code",
   "execution_count": 14,
   "id": "3286d9f2-38ae-43ea-8b37-d4ddc4c2eaec",
   "metadata": {},
   "outputs": [
    {
     "name": "stdout",
     "output_type": "stream",
     "text": [
      "torch.Size([2, 4, 768])\n",
      "torch.Size([2, 4, 768])\n"
     ]
    }
   ],
   "source": [
    "torch.manual_seed(123)\n",
    "x = torch.rand(2, 4, 768)\n",
    "block = TransformerBlock(GPT_CONFIG_124M)\n",
    "out = block(x)\n",
    "\n",
    "print(x.shape)\n",
    "print(out.shape)"
   ]
  },
  {
   "cell_type": "code",
   "execution_count": 19,
   "id": "83d75dcd-356c-4cf4-a382-8863f41bfc80",
   "metadata": {},
   "outputs": [],
   "source": [
    "class GPTModel(nn.Module):\n",
    "    def __init__(self, cfg):\n",
    "        super().__init__()\n",
    "\n",
    "        self.tok_emb = nn.Embedding(cfg[\"vocab_size\"], cfg[\"emb_dim\"])\n",
    "        self.pos_emb = nn.Embedding(cfg[\"context_length\"], cfg[\"emb_dim\"])\n",
    "        self.drop_emb = nn.Dropout(cfg[\"drop_rate\"])\n",
    "\n",
    "        self.trans_blocks = nn.Sequential(*[TransformerBlock(cfg) for _ in range(cfg[\"n_layers\"])])\n",
    "\n",
    "        self.final_norm = LayerNorm(cfg[\"emb_dim\"])\n",
    "        self.out_head = nn.Linear(cfg[\"emb_dim\"], cfg[\"vocab_size\"], bias=False)\n",
    "\n",
    "    def forward(self, in_idx):\n",
    "        batch_size, seq_len = in_idx.shape\n",
    "        token_embeds = self.tok_emb(in_idx)\n",
    "        pos_embeds = self.pos_emb(torch.arange(seq_len, device=in_idx.device))\n",
    "\n",
    "        x = token_embeds + pos_embeds\n",
    "        x = self.drop_emb(x)\n",
    "        x = self.trans_blocks(x)\n",
    "        x = self.final_norm(x)\n",
    "        logits = self.out_head(x)\n",
    "        return logits"
   ]
  },
  {
   "cell_type": "code",
   "execution_count": 20,
   "id": "b813a642-76be-418e-8fed-b1df129593a0",
   "metadata": {},
   "outputs": [],
   "source": [
    "torch.manual_seed(123)\n",
    "model = GPTModel(GPT_CONFIG_124M)"
   ]
  },
  {
   "cell_type": "code",
   "execution_count": 21,
   "id": "97c57f1e-2337-4022-81f2-97f0cc196da1",
   "metadata": {},
   "outputs": [
    {
     "name": "stdout",
     "output_type": "stream",
     "text": [
      "torch.Size([2, 4, 50257])\n",
      "tensor([[[ 0.3613,  0.4222, -0.0711,  ...,  0.3483,  0.4661, -0.2838],\n",
      "         [-0.1792, -0.5660, -0.9485,  ...,  0.0477,  0.5181, -0.3168],\n",
      "         [ 0.7120,  0.0332,  0.1085,  ...,  0.1018, -0.4327, -0.2553],\n",
      "         [-1.0076,  0.3418, -0.1190,  ...,  0.7195,  0.4023,  0.0532]],\n",
      "\n",
      "        [[-0.2564,  0.0900,  0.0335,  ...,  0.2659,  0.4454, -0.6806],\n",
      "         [ 0.1230,  0.3653, -0.2074,  ...,  0.7705,  0.2710,  0.2246],\n",
      "         [ 1.0558,  1.0318, -0.2800,  ...,  0.6936,  0.3205, -0.3178],\n",
      "         [-0.1565,  0.3926,  0.3288,  ...,  1.2630, -0.1858,  0.0388]]],\n",
      "       grad_fn=<UnsafeViewBackward0>)\n"
     ]
    }
   ],
   "source": [
    "batch = torch.tensor([\n",
    "    [6109, 3626, 6100, 345],\n",
    "    [6109, 1110, 6622, 257]\n",
    "])\n",
    "\n",
    "out = model(batch)\n",
    "\n",
    "print(out.shape)\n",
    "print(out)"
   ]
  },
  {
   "cell_type": "code",
   "execution_count": 22,
   "id": "0e336eb0-2506-44ff-a55e-740d0e788d6f",
   "metadata": {},
   "outputs": [
    {
     "name": "stdout",
     "output_type": "stream",
     "text": [
      "163009536\n"
     ]
    }
   ],
   "source": [
    "total_params = sum(p.numel() for p in model.parameters())\n",
    "print(total_params)"
   ]
  },
  {
   "cell_type": "code",
   "execution_count": 23,
   "id": "4f5c0505-4ff4-4925-97b1-3845a588fc36",
   "metadata": {},
   "outputs": [
    {
     "name": "stdout",
     "output_type": "stream",
     "text": [
      "621.83203125\n"
     ]
    }
   ],
   "source": [
    "total_size_type = total_params * 4\n",
    "total_size_mb = total_size_type / (1024 * 1024)\n",
    "print(total_size_mb)"
   ]
  },
  {
   "cell_type": "code",
   "execution_count": 24,
   "id": "e9e9fab4-87df-4aee-bb3f-4b9f2147ad48",
   "metadata": {},
   "outputs": [
    {
     "data": {
      "text/plain": [
       "'\\n1. Encodes text input into four token IDs;\\n2. The GPT model returns a matrix consisting of four vectors, where each vector has 50257 dimensions;\\n3. Extract the last vector, which corresponds to the next token that the GPT model is supposed to generate;\\n4. Converts logits into probability distribution using the softmax function;\\n5. Indentifies the index position of the largest value, which also represents the token ID;\\n6. Appends token to the previous inputs for the next round.\\n'"
      ]
     },
     "execution_count": 24,
     "metadata": {},
     "output_type": "execute_result"
    }
   ],
   "source": [
    "\"\"\"\n",
    "1. Encodes text input into four token IDs;\n",
    "2. The GPT model returns a matrix consisting of four vectors, where each vector has 50257 dimensions;\n",
    "3. Extract the last vector, which corresponds to the next token that the GPT model is supposed to generate;\n",
    "4. Converts logits into probability distribution using the softmax function;\n",
    "5. Indentifies the index position of the largest value, which also represents the token ID;\n",
    "6. Appends token to the previous inputs for the next round.\n",
    "\"\"\""
   ]
  },
  {
   "cell_type": "code",
   "execution_count": 25,
   "id": "4db4ae6c-238e-4159-a223-957bd2343cfd",
   "metadata": {},
   "outputs": [],
   "source": [
    "def generate_text_simple(model, idx, max_new_tokens, context_size):\n",
    "    for _ in range(max_new_tokens):\n",
    "        idx_second = idx[:, -context_size:]\n",
    "        with torch.no_grad():\n",
    "            logits = model(idx_second)\n",
    "\n",
    "        logits = logits[:,-1,:]\n",
    "        probs = torch.softmax(logits, dim=-1)\n",
    "        idx_next = torch.argmax(probs, dim=-1, keepdim=True)\n",
    "\n",
    "        idx = torch.cat([idx, idx_next], dim=1)\n",
    "    return idx"
   ]
  },
  {
   "cell_type": "code",
   "execution_count": 27,
   "id": "e5e9e385-8118-4a3b-a4bf-c5231609c36d",
   "metadata": {},
   "outputs": [
    {
     "name": "stdout",
     "output_type": "stream",
     "text": [
      "tensor([[15496,    11,   314,   716]])\n",
      "torch.Size([1, 4])\n"
     ]
    }
   ],
   "source": [
    "import tiktoken\n",
    "\n",
    "start_text = \"Hello, I am\"\n",
    "tokenizer = tiktoken.get_encoding(\"gpt2\")\n",
    "encoded = tokenizer.encode(start_text)\n",
    "\n",
    "encoded = torch.tensor(encoded).unsqueeze(0)\n",
    "print(encoded)\n",
    "print(encoded.shape)"
   ]
  },
  {
   "cell_type": "code",
   "execution_count": 29,
   "id": "4407c20f-50a1-4d75-9361-ae33203da971",
   "metadata": {},
   "outputs": [
    {
     "name": "stdout",
     "output_type": "stream",
     "text": [
      "tensor([[15496,    11,   314,   716, 27018, 24086, 47843, 30961, 42348,  7267]])\n",
      "10\n"
     ]
    }
   ],
   "source": [
    "model.eval()\n",
    "out = generate_text_simple(model, encoded, 6, GPT_CONFIG_124M[\"context_length\"])\n",
    "\n",
    "print(out)\n",
    "print(len(out[0]))"
   ]
  },
  {
   "cell_type": "code",
   "execution_count": 30,
   "id": "aac4c550-8ca5-4082-a5e4-e2e0dbadaa4b",
   "metadata": {},
   "outputs": [
    {
     "name": "stdout",
     "output_type": "stream",
     "text": [
      "Hello, I am Featureiman Byeswickattribute argue\n"
     ]
    }
   ],
   "source": [
    "decoded_txt = tokenizer.decode(out.squeeze(0).tolist())\n",
    "print(decoded_txt)"
   ]
  },
  {
   "cell_type": "code",
   "execution_count": null,
   "id": "95c7a746-03ef-491c-b67a-3f862c959c96",
   "metadata": {},
   "outputs": [],
   "source": []
  }
 ],
 "metadata": {
  "kernelspec": {
   "display_name": "Python 3 (ipykernel)",
   "language": "python",
   "name": "python3"
  },
  "language_info": {
   "codemirror_mode": {
    "name": "ipython",
    "version": 3
   },
   "file_extension": ".py",
   "mimetype": "text/x-python",
   "name": "python",
   "nbconvert_exporter": "python",
   "pygments_lexer": "ipython3",
   "version": "3.11.4"
  }
 },
 "nbformat": 4,
 "nbformat_minor": 5
}
