{
 "cells": [
  {
   "cell_type": "code",
   "execution_count": 2,
   "id": "4a003c93-17c2-423c-86e1-2c223957058a",
   "metadata": {},
   "outputs": [],
   "source": [
    "import urllib.request\n",
    "import zipfile\n",
    "import os\n",
    "from pathlib import Path"
   ]
  },
  {
   "cell_type": "code",
   "execution_count": 3,
   "id": "7bde9206-fab3-4762-98a9-446620a87182",
   "metadata": {},
   "outputs": [
    {
     "name": "stdout",
     "output_type": "stream",
     "text": [
      "ch06/sms_spam_collection/SMSSpamCollection.tsv\n"
     ]
    }
   ],
   "source": [
    "url = \"https://archive.ics.uci.edu/static/public/228/sms+spam+collection.zip\"\n",
    "zip_path = \"ch06/sms_spam_collection.zip\"\n",
    "extracted_path = \"ch06/sms_spam_collection\"\n",
    "data_file_path = Path(extracted_path) / \"SMSSpamCollection.tsv\"\n",
    "print(data_file_path)"
   ]
  },
  {
   "cell_type": "code",
   "execution_count": 4,
   "id": "b26d41ca-ab7a-4f08-884a-27ec7ecf6d1f",
   "metadata": {},
   "outputs": [],
   "source": [
    "def download_and_unzip_spam_data(\n",
    "    url, zip_path, extracted_path, data_file_path\n",
    "):\n",
    "    if data_file_path.exists():\n",
    "        print(f\"{data_file_path} already exists. Skipping download and extraction.\")\n",
    "        return\n",
    "    with urllib.request.urlopen(url) as response:\n",
    "        with open(zip_path, \"wb\") as fout:\n",
    "            fout.write(response.read())\n",
    "\n",
    "    with zipfile.ZipFile(zip_path, \"r\") as zip_ref:\n",
    "        zip_ref.extractall(extracted_path)\n",
    "\n",
    "    original_file_path = Path(extracted_path) / \"SMSSpamCollection\"\n",
    "    os.rename(original_file_path, data_file_path)\n",
    "    print(f\"File downloaded and saved as {data_file_path}\")"
   ]
  },
  {
   "cell_type": "code",
   "execution_count": 5,
   "id": "d4bae03a-61fa-4e15-98c7-d3ebf9c13605",
   "metadata": {},
   "outputs": [
    {
     "name": "stdout",
     "output_type": "stream",
     "text": [
      "ch06/sms_spam_collection/SMSSpamCollection.tsv already exists. Skipping download and extraction.\n"
     ]
    }
   ],
   "source": [
    "download_and_unzip_spam_data(url, zip_path, extracted_path, data_file_path)"
   ]
  },
  {
   "cell_type": "code",
   "execution_count": 6,
   "id": "2cf0ba64-481a-4e47-b2a6-edb951810463",
   "metadata": {},
   "outputs": [
    {
     "data": {
      "text/html": [
       "<div>\n",
       "<style scoped>\n",
       "    .dataframe tbody tr th:only-of-type {\n",
       "        vertical-align: middle;\n",
       "    }\n",
       "\n",
       "    .dataframe tbody tr th {\n",
       "        vertical-align: top;\n",
       "    }\n",
       "\n",
       "    .dataframe thead th {\n",
       "        text-align: right;\n",
       "    }\n",
       "</style>\n",
       "<table border=\"1\" class=\"dataframe\">\n",
       "  <thead>\n",
       "    <tr style=\"text-align: right;\">\n",
       "      <th></th>\n",
       "      <th>Label</th>\n",
       "      <th>Text</th>\n",
       "    </tr>\n",
       "  </thead>\n",
       "  <tbody>\n",
       "    <tr>\n",
       "      <th>0</th>\n",
       "      <td>ham</td>\n",
       "      <td>Go until jurong point, crazy.. Available only ...</td>\n",
       "    </tr>\n",
       "    <tr>\n",
       "      <th>1</th>\n",
       "      <td>ham</td>\n",
       "      <td>Ok lar... Joking wif u oni...</td>\n",
       "    </tr>\n",
       "    <tr>\n",
       "      <th>2</th>\n",
       "      <td>spam</td>\n",
       "      <td>Free entry in 2 a wkly comp to win FA Cup fina...</td>\n",
       "    </tr>\n",
       "    <tr>\n",
       "      <th>3</th>\n",
       "      <td>ham</td>\n",
       "      <td>U dun say so early hor... U c already then say...</td>\n",
       "    </tr>\n",
       "    <tr>\n",
       "      <th>4</th>\n",
       "      <td>ham</td>\n",
       "      <td>Nah I don't think he goes to usf, he lives aro...</td>\n",
       "    </tr>\n",
       "    <tr>\n",
       "      <th>...</th>\n",
       "      <td>...</td>\n",
       "      <td>...</td>\n",
       "    </tr>\n",
       "    <tr>\n",
       "      <th>5567</th>\n",
       "      <td>spam</td>\n",
       "      <td>This is the 2nd time we have tried 2 contact u...</td>\n",
       "    </tr>\n",
       "    <tr>\n",
       "      <th>5568</th>\n",
       "      <td>ham</td>\n",
       "      <td>Will ü b going to esplanade fr home?</td>\n",
       "    </tr>\n",
       "    <tr>\n",
       "      <th>5569</th>\n",
       "      <td>ham</td>\n",
       "      <td>Pity, * was in mood for that. So...any other s...</td>\n",
       "    </tr>\n",
       "    <tr>\n",
       "      <th>5570</th>\n",
       "      <td>ham</td>\n",
       "      <td>The guy did some bitching but I acted like i'd...</td>\n",
       "    </tr>\n",
       "    <tr>\n",
       "      <th>5571</th>\n",
       "      <td>ham</td>\n",
       "      <td>Rofl. Its true to its name</td>\n",
       "    </tr>\n",
       "  </tbody>\n",
       "</table>\n",
       "<p>5572 rows × 2 columns</p>\n",
       "</div>"
      ],
      "text/plain": [
       "     Label                                               Text\n",
       "0      ham  Go until jurong point, crazy.. Available only ...\n",
       "1      ham                      Ok lar... Joking wif u oni...\n",
       "2     spam  Free entry in 2 a wkly comp to win FA Cup fina...\n",
       "3      ham  U dun say so early hor... U c already then say...\n",
       "4      ham  Nah I don't think he goes to usf, he lives aro...\n",
       "...    ...                                                ...\n",
       "5567  spam  This is the 2nd time we have tried 2 contact u...\n",
       "5568   ham               Will ü b going to esplanade fr home?\n",
       "5569   ham  Pity, * was in mood for that. So...any other s...\n",
       "5570   ham  The guy did some bitching but I acted like i'd...\n",
       "5571   ham                         Rofl. Its true to its name\n",
       "\n",
       "[5572 rows x 2 columns]"
      ]
     },
     "execution_count": 6,
     "metadata": {},
     "output_type": "execute_result"
    }
   ],
   "source": [
    "import pandas as pd\n",
    "df = pd.read_csv(data_file_path, sep=\"\\t\", header=None, names=[\"Label\", \"Text\"])\n",
    "df"
   ]
  },
  {
   "cell_type": "code",
   "execution_count": 7,
   "id": "529edce2-0d6e-41d1-a551-868c128a5221",
   "metadata": {},
   "outputs": [
    {
     "name": "stdout",
     "output_type": "stream",
     "text": [
      "Label\n",
      "ham     4825\n",
      "spam     747\n",
      "Name: count, dtype: int64\n"
     ]
    }
   ],
   "source": [
    "print(df[\"Label\"].value_counts())"
   ]
  },
  {
   "cell_type": "code",
   "execution_count": 8,
   "id": "4084b223-4be5-40d3-87ad-65c12b3e4475",
   "metadata": {},
   "outputs": [
    {
     "name": "stdout",
     "output_type": "stream",
     "text": [
      "Label\n",
      "ham     747\n",
      "spam    747\n",
      "Name: count, dtype: int64\n"
     ]
    }
   ],
   "source": [
    "def create_balanced_dataset(df):\n",
    "    spam_set = df[df[\"Label\"] == \"spam\"]\n",
    "    num_spam = spam_set.shape[0]\n",
    "    ham_subset = df[df[\"Label\"] == \"ham\"].sample(num_spam, random_state=123)\n",
    "\n",
    "    balanced_df = pd.concat([ham_subset, spam_set])\n",
    "    return balanced_df\n",
    "\n",
    "balanced_df = create_balanced_dataset(df)\n",
    "print(balanced_df[\"Label\"].value_counts())"
   ]
  },
  {
   "cell_type": "code",
   "execution_count": 9,
   "id": "97fc6a42-7d79-4adf-a1a3-062faa456587",
   "metadata": {},
   "outputs": [],
   "source": [
    "balanced_df[\"Label\"] = balanced_df[\"Label\"].map({\"ham\": 0, \"spam\": 1})"
   ]
  },
  {
   "cell_type": "code",
   "execution_count": 10,
   "id": "63ee6ad5-cba0-432a-8a22-44f03fdeebf2",
   "metadata": {},
   "outputs": [],
   "source": [
    "def random_split(df, train_frac, valid_frac):\n",
    "    df = df.sample(frac=1, random_state=123).reset_index(drop=True)\n",
    "    train_end = int(len(df) * train_frac)\n",
    "    valid_end = train_end + int(len(df) * valid_frac)\n",
    "\n",
    "    train_df = df[:train_end]\n",
    "    valid_df = df[train_end:valid_end]\n",
    "    test_df = df[valid_end:]\n",
    "\n",
    "    return train_df, valid_df, test_df\n",
    "\n",
    "train_df, valid_df, test_df = random_split(balanced_df, 0.7, 0.1)\n",
    "\n",
    "train_df.to_csv(\"ch06/train.csv\", index=None)\n",
    "valid_df.to_csv(\"ch06/valid.csv\", index=None)\n",
    "test_df.to_csv(\"ch06/test.csv\", index=None)"
   ]
  },
  {
   "cell_type": "code",
   "execution_count": 11,
   "id": "07de8d15-d812-4e86-a108-4fe36fff6065",
   "metadata": {},
   "outputs": [
    {
     "name": "stdout",
     "output_type": "stream",
     "text": [
      "[50256]\n"
     ]
    }
   ],
   "source": [
    "import tiktoken\n",
    "tokenizer = tiktoken.get_encoding(\"gpt2\")\n",
    "print(tokenizer.encode(\"<|endoftext|>\", allowed_special={\"<|endoftext|>\"}))"
   ]
  },
  {
   "cell_type": "code",
   "execution_count": 12,
   "id": "a3c70e8c-5461-44b6-82f9-ba8de6e145d1",
   "metadata": {},
   "outputs": [],
   "source": [
    "# Setting up a Pytorch Dataset class\n",
    "\n",
    "import torch\n",
    "from torch.utils.data import Dataset\n",
    "\n",
    "class SpamDataset(Dataset):\n",
    "    def __init__(self, csv_file, tokenizer, max_length=None, pad_token_id=50256):\n",
    "\n",
    "        self.data = pd.read_csv(csv_file)\n",
    "        self.encoded_texts = [\n",
    "            tokenizer.encode(text) for text in self.data[\"Text\"]\n",
    "        ]\n",
    "\n",
    "        if max_length is None:\n",
    "            self.max_length = self._find_longest_encoded_length()\n",
    "        else:\n",
    "            self.max_length = max_length\n",
    "\n",
    "            self.encoded_texts = [\n",
    "                encoded_text[:max_length] for encoded_text in self.encoded_texts\n",
    "            ]\n",
    "\n",
    "        self.encoded_texts = [\n",
    "            encoded_text + [pad_token_id] * (self.max_length - len(encoded_text)) \n",
    "            for encoded_text in self.encoded_texts\n",
    "        ]\n",
    "\n",
    "    def _find_longest_encoded_length(self):\n",
    "        max_length = 0\n",
    "        for encoded_text in self.encoded_texts:\n",
    "            encoded_length = len(encoded_text)\n",
    "            if encoded_length > max_length:\n",
    "                max_length = encoded_length\n",
    "        return max_length\n",
    "\n",
    "    def __len__(self):\n",
    "        return len(self.encoded_texts)\n",
    "\n",
    "    def __getitem__(self, index):\n",
    "        encoded = self.encoded_texts[index]\n",
    "        label = self.data.iloc[index][\"Label\"]\n",
    "\n",
    "        return torch.tensor(encoded).long(), torch.tensor(label).long()"
   ]
  },
  {
   "cell_type": "code",
   "execution_count": 13,
   "id": "73a4e3be-2fed-4fa6-bc10-49736a4a106d",
   "metadata": {},
   "outputs": [],
   "source": [
    "train_dataset = SpamDataset(\"ch06/train.csv\", tokenizer)\n",
    "valid_dataset = SpamDataset(\"ch06/valid.csv\", tokenizer, max_length=train_dataset.max_length)\n",
    "test_dataset = SpamDataset(\"ch06/test.csv\", tokenizer, max_length=train_dataset.max_length)\n"
   ]
  },
  {
   "cell_type": "code",
   "execution_count": 14,
   "id": "772d883e-d25b-423c-978b-6941c669cc7d",
   "metadata": {},
   "outputs": [],
   "source": [
    "from torch.utils.data import DataLoader\n",
    "\n",
    "num_workers = 0\n",
    "batch_size = 4\n",
    "torch.manual_seed(123)\n",
    "\n",
    "train_loader = DataLoader(\n",
    "    dataset=train_dataset, \n",
    "    batch_size=batch_size, \n",
    "    shuffle=True, \n",
    "    num_workers=num_workers, \n",
    "    drop_last=True)\n",
    "valid_loader = DataLoader(\n",
    "    dataset=valid_dataset,\n",
    "    batch_size=batch_size,\n",
    "    shuffle=False,\n",
    "    num_workers=num_workers,\n",
    "    drop_last=False\n",
    ")\n",
    "test_loader = DataLoader(\n",
    "    dataset=test_dataset,\n",
    "    batch_size=batch_size,\n",
    "    shuffle=False,\n",
    "    num_workers=num_workers,\n",
    "    drop_last=False\n",
    ")"
   ]
  },
  {
   "cell_type": "code",
   "execution_count": 15,
   "id": "efd73017-c576-4f12-867d-5517f661de80",
   "metadata": {},
   "outputs": [
    {
     "name": "stdout",
     "output_type": "stream",
     "text": [
      "torch.Size([4, 120]) torch.Size([4])\n"
     ]
    }
   ],
   "source": [
    "for input_data, target_data in train_loader:\n",
    "    pass\n",
    "print(input_data.shape, target_data.shape)"
   ]
  },
  {
   "cell_type": "code",
   "execution_count": 16,
   "id": "54b36808-520a-4996-aa6e-0849da65d907",
   "metadata": {},
   "outputs": [
    {
     "name": "stdout",
     "output_type": "stream",
     "text": [
      "261 38 75\n"
     ]
    }
   ],
   "source": [
    "print(len(train_loader), len(valid_loader), len(test_loader))"
   ]
  },
  {
   "cell_type": "code",
   "execution_count": 17,
   "id": "5e401655-644b-48fe-a201-dc060e6183af",
   "metadata": {},
   "outputs": [],
   "source": [
    "from codes.configs import build_gpt2_configs\n",
    "\n",
    "BASE_CONFIG = build_gpt2_configs(\n",
    "    \"gpt2-small (124M)\",\n",
    "    {\"context_length\": 1024, \"qkv_bias\": True}\n",
    ")"
   ]
  },
  {
   "cell_type": "code",
   "execution_count": 18,
   "id": "d87865d4-a930-4b75-90c7-386a9172469f",
   "metadata": {},
   "outputs": [],
   "source": [
    "from codes.gpt_model import GPTModel\n",
    "\n",
    "gpt = GPTModel(BASE_CONFIG).eval()"
   ]
  },
  {
   "cell_type": "code",
   "execution_count": 20,
   "id": "74ec4772-79d2-4023-8bcd-d56634dcb6a9",
   "metadata": {},
   "outputs": [],
   "source": [
    "import tiktoken\n",
    "from codes.utils import generate_text_simple, text_to_token_ids, token_ids_to_text\n",
    "\n",
    "tokenizer = tiktoken.get_encoding(\"gpt2\")"
   ]
  },
  {
   "cell_type": "code",
   "execution_count": 22,
   "id": "17eb6516-aaad-44eb-af41-2c6ad9f3432f",
   "metadata": {},
   "outputs": [
    {
     "name": "stdout",
     "output_type": "stream",
     "text": [
      "Every effort moves you241 Javascript Wolfgangurt Imp play Puerto His stretched571 deepening cancell hiking diet contamination\n"
     ]
    }
   ],
   "source": [
    "text_1 = \"Every effort moves you\"\n",
    "token_ids = generate_text_simple(\n",
    "    gpt,\n",
    "    idx=text_to_token_ids(text_1, tokenizer=tokenizer),\n",
    "    max_new_tokens=15,\n",
    "    context_size=BASE_CONFIG[\"context_length\"]\n",
    ")\n",
    "print(token_ids_to_text(token_ids, tokenizer))"
   ]
  },
  {
   "cell_type": "code",
   "execution_count": 23,
   "id": "3809f49f-c53f-4187-b7e1-74b002547f49",
   "metadata": {},
   "outputs": [
    {
     "data": {
      "text/plain": [
       "<All keys matched successfully>"
      ]
     },
     "execution_count": 23,
     "metadata": {},
     "output_type": "execute_result"
    }
   ],
   "source": [
    "import torch\n",
    "pretrained_state = torch.load(\"./gpt2-small-124m-pretrained.pth\", map_location=\"cpu\")\n",
    "gpt.load_state_dict(pretrained_state)"
   ]
  },
  {
   "cell_type": "code",
   "execution_count": 24,
   "id": "326442ab-a456-4c4e-b6e7-2f0dd0a3164a",
   "metadata": {},
   "outputs": [
    {
     "name": "stdout",
     "output_type": "stream",
     "text": [
      "Every effort moves you forward.\n",
      "\n",
      "The first step is to understand the importance of your work\n"
     ]
    }
   ],
   "source": [
    "token_ids = generate_text_simple(\n",
    "    gpt,\n",
    "    idx=text_to_token_ids(text_1, tokenizer=tokenizer),\n",
    "    max_new_tokens=15,\n",
    "    context_size=BASE_CONFIG[\"context_length\"]\n",
    ")\n",
    "print(token_ids_to_text(token_ids, tokenizer))"
   ]
  },
  {
   "cell_type": "code",
   "execution_count": 26,
   "id": "9996741d-d5a6-404a-956b-1b32bb7b9e0e",
   "metadata": {},
   "outputs": [
    {
     "name": "stdout",
     "output_type": "stream",
     "text": [
      "Is the following text 'spam'? Answer with 'yes' or 'no':  'You are a winner you have been specially selected to receive $1000 cash or a $2000 award.'\n",
      "\n",
      "'You have been specially selected to receive $1000 cash or a $2000 award.' 'You have been\n"
     ]
    }
   ],
   "source": [
    "text_2 = (\n",
    "    \"Is the following text 'spam'? Answer with 'yes' or 'no': \"\n",
    "    \" 'You are a winner you have been specially selected to\"\n",
    "    \" receive $1000 cash or a $2000 award.'\"\n",
    ")\n",
    "\n",
    "token_ids = generate_text_simple(\n",
    "    gpt,\n",
    "    idx=text_to_token_ids(text_2, tokenizer=tokenizer),\n",
    "    max_new_tokens=23,\n",
    "    context_size=BASE_CONFIG[\"context_length\"]\n",
    ")\n",
    "print(token_ids_to_text(token_ids, tokenizer))"
   ]
  },
  {
   "cell_type": "code",
   "execution_count": 27,
   "id": "45385971-d918-4a28-aab3-f857ae7033dd",
   "metadata": {},
   "outputs": [],
   "source": [
    "for param in gpt.parameters():\n",
    "    param.requires_grad = False"
   ]
  },
  {
   "cell_type": "code",
   "execution_count": 28,
   "id": "6c827f29-660c-4b99-a9f7-ec997c9ac2d1",
   "metadata": {},
   "outputs": [],
   "source": [
    "torch.manual_seed(123)\n",
    "num_classes = 2\n",
    "gpt.out_head = torch.nn.Linear(BASE_CONFIG[\"emb_dim\"], num_classes)\n",
    "\n",
    "for param in gpt.trans_blocks[-1].parameters():\n",
    "    param.requires_grad = True\n",
    "for param in gpt.final_norm.parameters():\n",
    "    param.requires_grad = True"
   ]
  },
  {
   "cell_type": "code",
   "execution_count": 29,
   "id": "f8851059-3ed9-458b-b7ee-023f88b43780",
   "metadata": {},
   "outputs": [
    {
     "name": "stdout",
     "output_type": "stream",
     "text": [
      "torch.Size([1, 4])\n"
     ]
    }
   ],
   "source": [
    "inputs = tokenizer.encode(\"Do you have time\")\n",
    "inputs = torch.tensor(inputs).unsqueeze(0)\n",
    "print(inputs.shape)"
   ]
  },
  {
   "cell_type": "code",
   "execution_count": 30,
   "id": "7ccfae6b-0128-4cdf-bca8-94160f678cfa",
   "metadata": {},
   "outputs": [
    {
     "name": "stdout",
     "output_type": "stream",
     "text": [
      "torch.Size([1, 4, 2])\n"
     ]
    }
   ],
   "source": [
    "with torch.no_grad():\n",
    "    logits = gpt(inputs)\n",
    "\n",
    "print(logits.shape)"
   ]
  },
  {
   "cell_type": "code",
   "execution_count": 31,
   "id": "5202e177-40cf-4700-8bdc-22265ba9b685",
   "metadata": {},
   "outputs": [
    {
     "name": "stdout",
     "output_type": "stream",
     "text": [
      "tensor([[-3.5983,  3.9902]])\n"
     ]
    }
   ],
   "source": [
    "print(logits[:,-1,:])"
   ]
  },
  {
   "cell_type": "code",
   "execution_count": 35,
   "id": "d681436b-8d5b-4088-9d1d-517422450320",
   "metadata": {},
   "outputs": [],
   "source": [
    "def calc_accuracy_loader(data_loader, model, device, num_batches=None):\n",
    "    model.eval()\n",
    "\n",
    "    correct_predictions, num_examples = 0, 0\n",
    "\n",
    "    if num_batches is None:\n",
    "        num_batches = len(data_loader)\n",
    "    else:\n",
    "        num_batches = min(num_batches, len(data_loader))\n",
    "\n",
    "    for i, (input_batch, target_batch) in enumerate(data_loader):\n",
    "        if i < num_batches:\n",
    "            input_batch = input_batch.to(device)\n",
    "            target_batch = target_batch.to(device)\n",
    "\n",
    "            with torch.no_grad():\n",
    "                logits = model(input_batch)[:, -1, :]\n",
    "            predicted_labels = torch.argmax(logits, dim=-1)\n",
    "            num_examples += predicted_labels.shape[0]\n",
    "\n",
    "            correct_predictions += (predicted_labels == target_batch).sum().item()\n",
    "        else:\n",
    "            break\n",
    "    return correct_predictions / num_examples\n",
    "            "
   ]
  },
  {
   "cell_type": "code",
   "execution_count": 38,
   "id": "15910ee8-132b-4078-9726-ec456a2f73a8",
   "metadata": {},
   "outputs": [
    {
     "data": {
      "text/plain": [
       "<torch._C.Generator at 0x130bed210>"
      ]
     },
     "execution_count": 38,
     "metadata": {},
     "output_type": "execute_result"
    }
   ],
   "source": [
    "device = torch.device(\"cpu\")\n",
    "gpt = gpt.to(device)\n",
    "\n",
    "torch.manual_seed(123)"
   ]
  },
  {
   "cell_type": "code",
   "execution_count": 39,
   "id": "9e9cc2fb-2227-4152-90ae-9e1e012a053f",
   "metadata": {},
   "outputs": [
    {
     "name": "stdout",
     "output_type": "stream",
     "text": [
      "0.40\n",
      "0.50\n",
      "0.55\n"
     ]
    }
   ],
   "source": [
    "train_accuracy = calc_accuracy_loader(train_loader, gpt, device, num_batches=10)\n",
    "print(f\"{train_accuracy:.2f}\")\n",
    "\n",
    "valid_accuracy = calc_accuracy_loader(valid_loader, gpt, device, num_batches=10)\n",
    "print(f\"{valid_accuracy:.2f}\")\n",
    "\n",
    "test_accuracy = calc_accuracy_loader(test_loader, gpt, device, num_batches=10)\n",
    "print(f\"{test_accuracy:.2f}\")"
   ]
  },
  {
   "cell_type": "code",
   "execution_count": 40,
   "id": "320753ea-8ef6-4ba7-b714-accb8e54c33b",
   "metadata": {},
   "outputs": [],
   "source": [
    "def calc_loss_batch(input_batch, target_batch, model, device):\n",
    "    input_batch = input_batch.to(device)\n",
    "    target_batch = target_batch.to(device)\n",
    "\n",
    "    logits = model(input_batch)[:,-1,:]\n",
    "    loss = torch.nn.functional.cross_entropy(logits, target_batch)\n",
    "    return loss"
   ]
  },
  {
   "cell_type": "code",
   "execution_count": 43,
   "id": "c7edeb6c-96d2-41ff-bd1a-5228bb6cd790",
   "metadata": {},
   "outputs": [],
   "source": [
    "def calc_loss_loader(data_loader, model, device, num_batches=None):\n",
    "    total_loss = 0\n",
    "\n",
    "    if len(data_loader) == 0:\n",
    "        return float(\"nan\")\n",
    "    elif num_batches is None:\n",
    "        num_batches = len(data_loader)\n",
    "    else:\n",
    "        num_batches = min(num_batches, len(data_loader))\n",
    "\n",
    "    for i, (input_batch, target_batch) in enumerate(data_loader):\n",
    "        if i < num_batches:\n",
    "            loss = calc_loss_batch(input_batch, target_batch, model, device)\n",
    "            total_loss += loss.item()\n",
    "        else:\n",
    "            break\n",
    "    return total_loss / num_batches       "
   ]
  },
  {
   "cell_type": "code",
   "execution_count": 44,
   "id": "886f54fe-d737-464e-aaea-50c3b0e8d0d9",
   "metadata": {},
   "outputs": [
    {
     "name": "stdout",
     "output_type": "stream",
     "text": [
      "Train loss: 2.07\n",
      "Valid loss: 2.83\n",
      "Test loss: 2.58\n"
     ]
    }
   ],
   "source": [
    "with torch.no_grad():\n",
    "    train_loss = calc_loss_loader(\n",
    "        train_loader, gpt, device, num_batches=5\n",
    "    )\n",
    "    val_loss = calc_loss_loader(\n",
    "        valid_loader, gpt, device, num_batches=5\n",
    "    )\n",
    "    test_loss = calc_loss_loader(\n",
    "        test_loader, gpt, device, num_batches=5\n",
    "    )\n",
    "\n",
    "print(f\"Train loss: {train_loss:.2f}\")\n",
    "print(f\"Valid loss: {val_loss:.2f}\")\n",
    "print(f\"Test loss: {test_loss:.2f}\")"
   ]
  },
  {
   "cell_type": "code",
   "execution_count": 45,
   "id": "b804a837-3987-42a5-bab7-8a20ba0c3147",
   "metadata": {},
   "outputs": [],
   "source": [
    "def evaluate_model(model, train_loader, valid_loader, device, eval_iter):\n",
    "    model.eval()\n",
    "    with torch.no_grad():\n",
    "        train_loss = calc_loss_loader(train_loader, model, device, num_batches=eval_iter)\n",
    "        valid_loss = calc_loss_loader(valid_loader, model, device, num_batches=eval_iter)\n",
    "    model.train()\n",
    "    return train_loss, valid_loss"
   ]
  },
  {
   "cell_type": "code",
   "execution_count": 53,
   "id": "95c414c4-ff09-46b9-991c-6b21e5c74dd6",
   "metadata": {},
   "outputs": [],
   "source": [
    "def train_classifier_simple(\n",
    "    model,\n",
    "    train_loader,\n",
    "    valid_loader,\n",
    "    optimizer,\n",
    "    device,\n",
    "    num_epochs,\n",
    "    eval_freq,\n",
    "    eval_iter\n",
    "):\n",
    "    train_losses, valid_losses, train_accs, valid_accs = [], [], [], []\n",
    "    example_seen, global_step = 0, -1\n",
    "\n",
    "    for epoch in range(num_epochs):\n",
    "        for input_batch, target_batch in train_loader:\n",
    "            optimizer.zero_grad()\n",
    "            loss = calc_loss_batch(\n",
    "                input_batch, \n",
    "                target_batch,\n",
    "                model,\n",
    "                device\n",
    "            )\n",
    "\n",
    "            loss.backward()\n",
    "            optimizer.step()\n",
    "\n",
    "            example_seen += input_batch.shape[0]\n",
    "            global_step += 1\n",
    "\n",
    "            if global_step % eval_freq == 0:\n",
    "                train_loss, valid_loss = evaluate_model(model, train_loader, valid_loader, device, eval_iter)\n",
    "                train_losses.append(train_loss)\n",
    "                valid_losses.append(valid_loss)\n",
    "\n",
    "                print(f\"Ep {epoch + 1} (Step {global_step:06d}): \"\n",
    "                      f\"Train loss: {train_loss:.3f} \"\n",
    "                      f\"Val loss: {valid_loss:.3f}\"\n",
    "                )\n",
    "\n",
    "        train_accuracy = calc_accuracy_loader(train_loader, model, device, num_batches=eval_iter)\n",
    "        valid_accuracy = calc_accuracy_loader(valid_loader, model, device, num_batches=eval_iter)\n",
    "        print(f\"Training accuracy: {train_accuracy*100:.2f}%\")\n",
    "        print(f\"Validation accuracy: {valid_accuracy*100:.2f}%\")\n",
    "        train_accs.append(train_accuracy)\n",
    "        valid_accs.append(valid_accuracy)\n",
    "\n",
    "    return train_losses, valid_losses, train_accs, valid_accs, example_seen\n",
    "            "
   ]
  },
  {
   "cell_type": "code",
   "execution_count": 54,
   "id": "110bd2b1-2048-4330-94e7-68bdeb195a44",
   "metadata": {},
   "outputs": [
    {
     "name": "stdout",
     "output_type": "stream",
     "text": [
      "Ep 1 (Step 000000): Train loss: 0.018 Val loss: 0.289\n",
      "Ep 1 (Step 000050): Train loss: 0.230 Val loss: 0.276\n",
      "Ep 1 (Step 000100): Train loss: 0.067 Val loss: 0.138\n",
      "Ep 1 (Step 000150): Train loss: 0.021 Val loss: 0.046\n",
      "Ep 1 (Step 000200): Train loss: 0.056 Val loss: 0.152\n",
      "Ep 1 (Step 000250): Train loss: 0.020 Val loss: 0.113\n",
      "Training accuracy: 95.00%\n",
      "Validation accuracy: 90.00%\n",
      "Ep 2 (Step 000300): Train loss: 0.010 Val loss: 0.016\n",
      "Ep 2 (Step 000350): Train loss: 0.089 Val loss: 0.579\n",
      "Ep 2 (Step 000400): Train loss: 0.013 Val loss: 0.093\n",
      "Ep 2 (Step 000450): Train loss: 0.109 Val loss: 0.186\n",
      "Ep 2 (Step 000500): Train loss: 0.050 Val loss: 0.107\n",
      "Training accuracy: 85.00%\n",
      "Validation accuracy: 90.00%\n",
      "Ep 3 (Step 000550): Train loss: 0.004 Val loss: 0.021\n",
      "Ep 3 (Step 000600): Train loss: 0.024 Val loss: 0.242\n",
      "Ep 3 (Step 000650): Train loss: 0.038 Val loss: 0.131\n",
      "Ep 3 (Step 000700): Train loss: 0.037 Val loss: 0.179\n",
      "Ep 3 (Step 000750): Train loss: 0.028 Val loss: 0.142\n",
      "Training accuracy: 100.00%\n",
      "Validation accuracy: 95.00%\n",
      "Ep 4 (Step 000800): Train loss: 0.006 Val loss: 0.040\n",
      "Ep 4 (Step 000850): Train loss: 0.213 Val loss: 0.109\n",
      "Ep 4 (Step 000900): Train loss: 0.003 Val loss: 0.144\n",
      "Ep 4 (Step 000950): Train loss: 0.010 Val loss: 0.135\n",
      "Ep 4 (Step 001000): Train loss: 0.005 Val loss: 0.180\n",
      "Training accuracy: 100.00%\n",
      "Validation accuracy: 95.00%\n",
      "Ep 5 (Step 001050): Train loss: 0.161 Val loss: 0.257\n",
      "Ep 5 (Step 001100): Train loss: 0.001 Val loss: 0.072\n",
      "Ep 5 (Step 001150): Train loss: 0.017 Val loss: 0.082\n",
      "Ep 5 (Step 001200): Train loss: 0.024 Val loss: 0.152\n",
      "Ep 5 (Step 001250): Train loss: 0.010 Val loss: 0.019\n",
      "Ep 5 (Step 001300): Train loss: 0.002 Val loss: 0.058\n",
      "Training accuracy: 95.00%\n",
      "Validation accuracy: 95.00%\n",
      "Ep 6 (Step 001350): Train loss: 0.003 Val loss: 0.016\n",
      "Ep 6 (Step 001400): Train loss: 0.018 Val loss: 0.005\n",
      "Ep 6 (Step 001450): Train loss: 0.029 Val loss: 0.124\n",
      "Ep 6 (Step 001500): Train loss: 0.005 Val loss: 0.208\n",
      "Ep 6 (Step 001550): Train loss: 0.018 Val loss: 0.044\n",
      "Training accuracy: 95.00%\n",
      "Validation accuracy: 95.00%\n",
      "Ep 7 (Step 001600): Train loss: 0.015 Val loss: 0.025\n",
      "Ep 7 (Step 001650): Train loss: 0.016 Val loss: 0.053\n",
      "Ep 7 (Step 001700): Train loss: 0.029 Val loss: 0.093\n",
      "Ep 7 (Step 001750): Train loss: 0.017 Val loss: 0.111\n",
      "Ep 7 (Step 001800): Train loss: 0.013 Val loss: 0.087\n",
      "Training accuracy: 95.00%\n",
      "Validation accuracy: 95.00%\n",
      "Ep 8 (Step 001850): Train loss: 0.066 Val loss: 0.011\n",
      "Ep 8 (Step 001900): Train loss: 0.046 Val loss: 0.207\n",
      "Ep 8 (Step 001950): Train loss: 0.016 Val loss: 0.044\n",
      "Ep 8 (Step 002000): Train loss: 0.006 Val loss: 0.051\n",
      "Ep 8 (Step 002050): Train loss: 0.009 Val loss: 0.105\n",
      "Training accuracy: 100.00%\n",
      "Validation accuracy: 100.00%\n",
      "Training completed in 5.91 minutes.\n"
     ]
    }
   ],
   "source": [
    "import time\n",
    "\n",
    "start_time = time.time()\n",
    "torch.manual_seed(123)\n",
    "device = torch.device(\"mps\")\n",
    "\n",
    "gpt.to(device)\n",
    "optimizer = torch.optim.AdamW(gpt.parameters(), lr=5e-5, weight_decay=0.1)\n",
    "num_epochs = 8\n",
    "\n",
    "train_losses, valid_losses, train_accs, valid_accs, example_seen = train_classifier_simple(\n",
    "    gpt,\n",
    "    train_loader,\n",
    "    valid_loader,\n",
    "    optimizer,\n",
    "    device,\n",
    "    num_epochs,\n",
    "    eval_freq=50,\n",
    "    eval_iter=5\n",
    ")\n",
    "running_minutes = (time.time() - start_time) / 60\n",
    "print(f\"Training completed in {running_minutes:.2f} minutes.\")"
   ]
  },
  {
   "cell_type": "code",
   "execution_count": 55,
   "id": "557e9ceb-951b-4706-9760-7d35f48fc32d",
   "metadata": {},
   "outputs": [
    {
     "data": {
      "image/png": "[encoded data removed]",
      "text/plain": [
       "<Figure size 500x300 with 2 Axes>"
      ]
     },
     "metadata": {},
     "output_type": "display_data"
    }
   ],
   "source": [
    "import matplotlib.pyplot as plt\n",
    "\n",
    "def plot_values(epochs_seen, example_seen, train_value, valid_value, label=\"loss\"):\n",
    "    fig, ax1 = plt.subplots(figsize=(5, 3))\n",
    "\n",
    "    ax1.plot(epochs_seen, train_value, label=f\"Traning {label}\")\n",
    "    ax1.plot(epochs_seen, valid_value, linestyle=\"-.\", label=f\"Validation {label}\")\n",
    "\n",
    "    ax1.set_xlabel(\"Epochs\")\n",
    "    ax1.set_ylabel(label.capitalize())\n",
    "    ax1.legend()\n",
    "\n",
    "    ax2 = ax1.twiny()\n",
    "    ax2.plot(example_seen, train_value, alpha=0)\n",
    "    ax2.set_xlabel(\"Example seen\")\n",
    "\n",
    "    fig.tight_layout()\n",
    "    plt.savefig(f\"./ch06/{label}-plot.pdf\")\n",
    "    plt.show()\n",
    "    \n",
    "epochs_tensor = torch.linspace(0, num_epochs, len(train_losses))\n",
    "example_seen_tensor = torch.linspace(0, example_seen, len(train_losses))\n",
    "\n",
    "plot_values(epochs_tensor, example_seen_tensor, train_losses, valid_losses, \"loss\")"
   ]
  },
  {
   "cell_type": "code",
   "execution_count": 56,
   "id": "fa9b885d-5f27-4e51-94ff-ed5574b16007",
   "metadata": {},
   "outputs": [
    {
     "data": {
      "image/png": "[encoded data removed]",
      "text/plain": [
       "<Figure size 500x300 with 2 Axes>"
      ]
     },
     "metadata": {},
     "output_type": "display_data"
    }
   ],
   "source": [
    "epochs_tensor = torch.linspace(0, num_epochs, len(train_accs))\n",
    "example_seen_tensor = torch.linspace(0, example_seen, len(train_accs))\n",
    "\n",
    "plot_values(epochs_tensor, example_seen_tensor, train_accs, valid_accs, \"accuracy\")"
   ]
  },
  {
   "cell_type": "code",
   "execution_count": 57,
   "id": "5f806e3e-fe95-4aeb-be50-4a0f42fd9e13",
   "metadata": {},
   "outputs": [
    {
     "name": "stdout",
     "output_type": "stream",
     "text": [
      "0.99\n",
      "0.99\n",
      "0.96\n"
     ]
    }
   ],
   "source": [
    "train_accuracy = calc_accuracy_loader(train_loader, gpt, device)\n",
    "valid_accuracy = calc_accuracy_loader(valid_loader, gpt, device)\n",
    "test_accuracy = calc_accuracy_loader(test_loader, gpt, device)\n",
    "\n",
    "print(f\"{train_accuracy:.2f}\")\n",
    "print(f\"{valid_accuracy:.2f}\")\n",
    "print(f\"{test_accuracy:.2f}\")"
   ]
  },
  {
   "cell_type": "code",
   "execution_count": 58,
   "id": "3fa9172e-9d73-4eca-8762-88461f07a3ed",
   "metadata": {},
   "outputs": [],
   "source": [
    "def classify_email(text, model, tokenizer, device, max_length=None, pad_token_id=50256):\n",
    "    input_ids = tokenizer.encode(text)\n",
    "    supported_context_length = model.pos_emb.weight.shape[1]\n",
    "\n",
    "    input_ids = input_ids[:min(supported_context_length, max_length)]\n",
    "    input_ids = torch.tensor(input_ids).unsqueeze(0).to(device)\n",
    "\n",
    "    with torch.no_grad():\n",
    "        logits = model(input_ids)[:,-1, :]\n",
    "    predicted_label = torch.argmax(logits, dim=-1).item()\n",
    "\n",
    "    return \"spam\" if predicted_label == 1 else \"not spam\"\n",
    "    "
   ]
  },
  {
   "cell_type": "code",
   "execution_count": 59,
   "id": "a3f685c1-6ccb-40df-a5b2-6d0a7f6ddb7d",
   "metadata": {},
   "outputs": [
    {
     "name": "stdout",
     "output_type": "stream",
     "text": [
      "spam\n",
      "not spam\n"
     ]
    }
   ],
   "source": [
    "text_1 = \"You are a winner you have been specially selected to receive $1000 cash or $2000 award.\"\n",
    "text_2 = \"Hey, just wanted to check if we are still on for dinner tonight? Let me know!\"\n",
    "\n",
    "print(classify_email(text_1, gpt, tokenizer, device, train_dataset.max_length))\n",
    "print(classify_email(text_2, gpt, tokenizer, device, train_dataset.max_length))"
   ]
  },
  {
   "cell_type": "code",
   "execution_count": 60,
   "id": "d9401221-3b2a-4060-9c90-dfd2d991d6e1",
   "metadata": {},
   "outputs": [],
   "source": [
    "torch.save(gpt.state_dict(), \"./ch06/gpt2-small-124m-finetune-classifier.pth\")"
   ]
  },
  {
   "cell_type": "code",
   "execution_count": null,
   "id": "7bdf5886-c8af-421f-9561-4bee2888f235",
   "metadata": {},
   "outputs": [],
   "source": []
  }
 ],
 "metadata": {
  "kernelspec": {
   "display_name": "Python 3 (ipykernel)",
   "language": "python",
   "name": "python3"
  },
  "language_info": {
   "codemirror_mode": {
    "name": "ipython",
    "version": 3
   },
   "file_extension": ".py",
   "mimetype": "text/x-python",
   "name": "python",
   "nbconvert_exporter": "python",
   "pygments_lexer": "ipython3",
   "version": "3.11.4"
  }
 },
 "nbformat": 4,
 "nbformat_minor": 5
}
